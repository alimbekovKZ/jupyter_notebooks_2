{
 "cells": [
  {
   "cell_type": "code",
   "execution_count": 1,
   "metadata": {},
   "outputs": [],
   "source": [
    "import pandas as pd"
   ]
  },
  {
   "cell_type": "code",
   "execution_count": 6,
   "metadata": {},
   "outputs": [],
   "source": [
    "sub1 = pd.read_csv('../output/sub_xgboost.csv')\n",
    "sub2 = pd.read_csv('../output/ieee_lgb_kflod_remove_5th_submit.csv')\n",
    "\n",
    "final_sub=sub1.copy()\n",
    "final_sub['isFraud'] = final_sub['isFraud']*0.6 + sub2['isFraud']*0.4\n",
    "final_sub.to_csv('../output/final_sub_v1.csv', index=False)"
   ]
  },
  {
   "cell_type": "raw",
   "metadata": {},
   "source": [
    "### 0.5\\*final_sub_v1+0.5\\*9469(kernel)"
   ]
  },
  {
   "cell_type": "code",
   "execution_count": 7,
   "metadata": {},
   "outputs": [],
   "source": [
    "sub1 = pd.read_csv('../output/final_sub_v1.csv')\n",
    "sub2 = pd.read_csv('../output/ieee_lgb_submit_D_udi_D15.csv')\n",
    "\n",
    "final_sub=sub1.copy()\n",
    "final_sub['isFraud'] = final_sub['isFraud']*0.3 + sub2['isFraud']*0.7\n",
    "final_sub.to_csv('../output/final_sub_v2.csv', index=False)"
   ]
  },
  {
   "cell_type": "raw",
   "metadata": {},
   "source": [
    "../output/ieee_cis_fraud_detection_v5.csv 0.9415 +\n",
    "../output/ieee_cis_fraud_detection_v6.csv 0.9422 +\n",
    "../output/ieee_lgb_kflod_allFolds.csv 0.9429 +\n",
    "../output/ieee_lgb_submit_D_udi_D15.csv 0.9469 +\n",
    "../output/ieee_lgb_submit_D.csv 0.9457 +\n",
    "../output/ieee_lgb_para_opt.csv 0.9402 -\n",
    "../output/ieee_lgb_kflod_remove_5th_submit.csv 0.9435 +\n",
    "../output/ieee_cis_fraud_detection_v2.csv 0.9419 -\n",
    "../output/final_sub_v1.csv 0.9448 -\n",
    "../output/sub_xgboost.csv 0.9433 +"
   ]
  },
  {
   "cell_type": "code",
   "execution_count": 3,
   "metadata": {},
   "outputs": [],
   "source": [
    "sub1 = pd.read_csv('../output/sub_xgboost.csv')\n",
    "sub2 = pd.read_csv('../output/ieee_lgb_kflod_allFolds.csv')\n",
    "\n",
    "final_sub=sub1.copy()\n",
    "final_sub['isFraud'] = final_sub['isFraud']*0.6 + sub2['isFraud']*0.4\n",
    "final_sub.to_csv('../output/final_sub_v1.csv', index=False)"
   ]
  },
  {
   "cell_type": "code",
   "execution_count": 4,
   "metadata": {},
   "outputs": [],
   "source": [
    "sub1 = pd.read_csv('../output/final_sub_v1.csv')\n",
    "sub2 = pd.read_csv('../output/ieee_lgb_submit_D_udi_D15.csv')\n",
    "\n",
    "final_sub=sub1.copy()\n",
    "final_sub['isFraud'] = final_sub['isFraud']*0.5 + sub2['isFraud']*0.5\n",
    "final_sub.to_csv('../output/final_sub_v3.csv', index=False)"
   ]
  },
  {
   "cell_type": "raw",
   "metadata": {},
   "source": []
  },
  {
   "cell_type": "code",
   "execution_count": 5,
   "metadata": {},
   "outputs": [],
   "source": [
    "sub1 = pd.read_csv('../output/sub_xgboost.csv')\n",
    "sub2 = pd.read_csv('../output/ieee_lgb_kflod_remove_5th_submit.csv')\n",
    "\n",
    "final_sub=sub1.copy()\n",
    "final_sub['isFraud'] = final_sub['isFraud']*0.6 + sub2['isFraud']*0.4\n",
    "final_sub.to_csv('../output/final_sub_v1.csv', index=False)"
   ]
  },
  {
   "cell_type": "code",
   "execution_count": 6,
   "metadata": {},
   "outputs": [],
   "source": [
    "sub1 = pd.read_csv('../output/final_sub_v1.csv')\n",
    "sub2 = pd.read_csv('../output/ieee_lgb_submit_D_udi_D15.csv')\n",
    "\n",
    "final_sub=sub1.copy()\n",
    "final_sub['isFraud'] = final_sub['isFraud']*0.5 + sub2['isFraud']*0.5\n",
    "final_sub.to_csv('../output/final_sub_v4.csv', index=False)"
   ]
  },
  {
   "cell_type": "raw",
   "metadata": {},
   "source": []
  },
  {
   "cell_type": "code",
   "execution_count": 7,
   "metadata": {},
   "outputs": [],
   "source": [
    "sub1 = pd.read_csv('../output/sub_xgboost.csv')\n",
    "sub2 = pd.read_csv('../output/ieee_lgb_submit_D.csv')\n",
    "\n",
    "final_sub=sub1.copy()\n",
    "final_sub['isFraud'] = final_sub['isFraud']*0.6 + sub2['isFraud']*0.4\n",
    "final_sub.to_csv('../output/final_sub_v1.csv', index=False)"
   ]
  },
  {
   "cell_type": "code",
   "execution_count": 8,
   "metadata": {},
   "outputs": [],
   "source": [
    "sub1 = pd.read_csv('../output/final_sub_v1.csv')\n",
    "sub2 = pd.read_csv('../output/ieee_lgb_submit_D_udi_D15.csv')\n",
    "\n",
    "final_sub=sub1.copy()\n",
    "final_sub['isFraud'] = final_sub['isFraud']*0.5 + sub2['isFraud']*0.5\n",
    "final_sub.to_csv('../output/final_sub_v5.csv', index=False)"
   ]
  },
  {
   "cell_type": "raw",
   "metadata": {},
   "source": []
  },
  {
   "cell_type": "code",
   "execution_count": 9,
   "metadata": {},
   "outputs": [],
   "source": [
    "sub1 = pd.read_csv('../output/ieee_lgb_kflod_remove_5th_submit.csv')\n",
    "sub2 = pd.read_csv('../output/ieee_lgb_submit_D.csv')\n",
    "\n",
    "final_sub=sub1.copy()\n",
    "final_sub['isFraud'] = final_sub['isFraud']*0.6 + sub2['isFraud']*0.4\n",
    "final_sub.to_csv('../output/final_sub_v1.csv', index=False)"
   ]
  },
  {
   "cell_type": "code",
   "execution_count": 10,
   "metadata": {},
   "outputs": [],
   "source": [
    "sub1 = pd.read_csv('../output/final_sub_v1.csv')\n",
    "sub2 = pd.read_csv('../output/ieee_lgb_submit_D_udi_D15.csv')\n",
    "\n",
    "final_sub=sub1.copy()\n",
    "final_sub['isFraud'] = final_sub['isFraud']*0.5 + sub2['isFraud']*0.5\n",
    "final_sub.to_csv('../output/final_sub_v6.csv', index=False)"
   ]
  },
  {
   "cell_type": "code",
   "execution_count": null,
   "metadata": {},
   "outputs": [],
   "source": []
  }
 ],
 "metadata": {
  "kernelspec": {
   "display_name": "Python 3",
   "language": "python",
   "name": "python3"
  },
  "language_info": {
   "codemirror_mode": {
    "name": "ipython",
    "version": 3
   },
   "file_extension": ".py",
   "mimetype": "text/x-python",
   "name": "python",
   "nbconvert_exporter": "python",
   "pygments_lexer": "ipython3",
   "version": "3.7.3"
  }
 },
 "nbformat": 4,
 "nbformat_minor": 2
}
