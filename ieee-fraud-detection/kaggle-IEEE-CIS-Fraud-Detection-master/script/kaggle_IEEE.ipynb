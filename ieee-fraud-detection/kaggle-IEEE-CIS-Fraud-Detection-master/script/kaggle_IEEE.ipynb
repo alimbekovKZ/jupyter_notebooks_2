{
  "nbformat": 4,
  "nbformat_minor": 0,
  "metadata": {
    "colab": {
      "name": "kaggle IEEE.ipynb",
      "version": "0.3.2",
      "provenance": [],
      "toc_visible": true,
      "machine_shape": "hm"
    },
    "kernelspec": {
      "name": "python3",
      "display_name": "Python 3"
    },
    "accelerator": "GPU"
  },
  "cells": [
    {
      "cell_type": "markdown",
      "metadata": {
        "id": "o5sUsTIZPIY7",
        "colab_type": "text"
      },
      "source": [
        "# 导入所需的包"
      ]
    },
    {
      "cell_type": "code",
      "metadata": {
        "id": "-1Mt6adwPMHP",
        "colab_type": "code",
        "outputId": "76ce3f4e-cc11-4d49-811b-f5a1c9eb87e9",
        "colab": {
          "base_uri": "https://localhost:8080/",
          "height": 35
        }
      },
      "source": [
        "import os\n",
        "import zipfile\n",
        "import numpy as np \n",
        "import pandas as pd \n",
        "import itertools\n",
        "from scipy import interp\n",
        "\n",
        "# Data processing, metrics and modeling\n",
        "from sklearn.preprocessing import LabelEncoder, StandardScaler\n",
        "from sklearn.model_selection import train_test_split, StratifiedKFold,KFold\n",
        "from datetime import datetime\n",
        "from sklearn.metrics import precision_score, recall_score, confusion_matrix, accuracy_score, roc_auc_score, f1_score, roc_curve, auc,precision_recall_curve\n",
        "from sklearn import metrics\n",
        "from sklearn.metrics import roc_auc_score\n",
        "from sklearn import preprocessing\n",
        "\n",
        "# Plots\n",
        "import seaborn as sns\n",
        "import matplotlib.pyplot as plt\n",
        "%matplotlib inline\n",
        "from matplotlib import rcParams\n",
        "\n",
        "# keras\n",
        "from keras.layers import Concatenate, Input, Dense, Embedding, Flatten, Dropout, BatchNormalization, SpatialDropout1D\n",
        "from keras.callbacks import ModelCheckpoint, ReduceLROnPlateau\n",
        "from keras.models import Model\n",
        "from keras.optimizers import  Adam\n",
        "import keras.backend as k\n",
        "from keras.callbacks import EarlyStopping, ModelCheckpoint\n",
        "from tensorflow.keras.models import load_model\n",
        "\n",
        "import tensorflow as tf\n",
        "from sklearn.metrics import roc_auc_score\n",
        "\n",
        "# Suppr warning\n",
        "import warnings\n",
        "warnings.filterwarnings(\"ignore\")"
      ],
      "execution_count": 0,
      "outputs": [
        {
          "output_type": "stream",
          "text": [
            "Using TensorFlow backend.\n"
          ],
          "name": "stderr"
        }
      ]
    },
    {
      "cell_type": "markdown",
      "metadata": {
        "id": "2vCQlN5mQrO5",
        "colab_type": "text"
      },
      "source": [
        "# 数据预处理"
      ]
    },
    {
      "cell_type": "markdown",
      "metadata": {
        "id": "ih2Dx-ZEQIXy",
        "colab_type": "text"
      },
      "source": [
        "查看数据文件"
      ]
    },
    {
      "cell_type": "code",
      "metadata": {
        "id": "o4n1Cyjl_R5v",
        "colab_type": "code",
        "outputId": "e0bb86aa-3b49-4b68-d394-6a2d0de61698",
        "colab": {
          "base_uri": "https://localhost:8080/",
          "height": 108
        }
      },
      "source": [
        "os.listdir('./drive/My Drive/Colab Notebooks/input')"
      ],
      "execution_count": 0,
      "outputs": [
        {
          "output_type": "execute_result",
          "data": {
            "text/plain": [
              "['sample_submission.csv',\n",
              " 'test_identity.csv',\n",
              " 'test_transaction.csv',\n",
              " 'train_identity.csv',\n",
              " 'train_transaction.csv']"
            ]
          },
          "metadata": {
            "tags": []
          },
          "execution_count": 2
        }
      ]
    },
    {
      "cell_type": "markdown",
      "metadata": {
        "id": "qPK8BZHa7icB",
        "colab_type": "text"
      },
      "source": [
        "解压文件"
      ]
    },
    {
      "cell_type": "code",
      "metadata": {
        "id": "2reeRW1w7gX9",
        "colab_type": "code",
        "colab": {}
      },
      "source": [
        "# for local_zip in ['test_identity.csv.zip',  'test_transaction.csv.zip',\n",
        "#                   'train_identity.csv.zip', 'train_transaction.csv.zip']:\n",
        "  \n",
        "#   zip_ref = zipfile.ZipFile('./drive/My Drive/Colab Notebooks/input/' + local_zip, 'r')\n",
        "#   zip_ref.extractall('./drive/My Drive/Colab Notebooks/input/')\n",
        "#   zip_ref.close()"
      ],
      "execution_count": 0,
      "outputs": []
    },
    {
      "cell_type": "markdown",
      "metadata": {
        "id": "7nfvHaqqPd8I",
        "colab_type": "text"
      },
      "source": [
        "读取数据"
      ]
    },
    {
      "cell_type": "code",
      "metadata": {
        "id": "uo84BfoD90vP",
        "colab_type": "code",
        "outputId": "bdcb4431-c44b-445b-d014-2a851434c2f1",
        "colab": {
          "base_uri": "https://localhost:8080/",
          "height": 54
        }
      },
      "source": [
        "%%time\n",
        "input_dir = './drive/My Drive/Colab Notebooks/input/'\n",
        "train_transaction = pd.read_csv(input_dir + 'train_transaction.csv', index_col='TransactionID')\n",
        "test_transaction = pd.read_csv(input_dir + 'test_transaction.csv', index_col='TransactionID')\n",
        "train_identity = pd.read_csv(input_dir + 'train_identity.csv', index_col='TransactionID')\n",
        "test_identity = pd.read_csv(input_dir + 'test_identity.csv', index_col='TransactionID')\n",
        "sample_submission = pd.read_csv(input_dir + 'sample_submission.csv', index_col='TransactionID')"
      ],
      "execution_count": 0,
      "outputs": [
        {
          "output_type": "stream",
          "text": [
            "CPU times: user 1min, sys: 6.72 s, total: 1min 7s\n",
            "Wall time: 1min 8s\n"
          ],
          "name": "stdout"
        }
      ]
    },
    {
      "cell_type": "markdown",
      "metadata": {
        "id": "bcJ8H5r2QOYM",
        "colab_type": "text"
      },
      "source": [
        "拼表"
      ]
    },
    {
      "cell_type": "code",
      "metadata": {
        "id": "W8ZHVM8o97Si",
        "colab_type": "code",
        "outputId": "24774a5a-34a9-402d-a791-06a58dcb1235",
        "colab": {
          "base_uri": "https://localhost:8080/",
          "height": 54
        }
      },
      "source": [
        "# merge\n",
        "train_df = train_transaction.merge(train_identity, how='left', left_index=True, right_index=True)\n",
        "test_df = test_transaction.merge(test_identity, how='left', left_index=True, right_index=True)\n",
        "\n",
        "print(\"Train shape : \"+str(train_df.shape))\n",
        "print(\"Test shape  : \"+str(test_df.shape))\n"
      ],
      "execution_count": 0,
      "outputs": [
        {
          "output_type": "stream",
          "text": [
            "Train shape : (590540, 433)\n",
            "Test shape  : (506691, 432)\n"
          ],
          "name": "stdout"
        }
      ]
    },
    {
      "cell_type": "markdown",
      "metadata": {
        "id": "oWvl5Jg-QgLX",
        "colab_type": "text"
      },
      "source": [
        "index处理"
      ]
    },
    {
      "cell_type": "code",
      "metadata": {
        "id": "6zEEyXeN-Usw",
        "colab_type": "code",
        "colab": {}
      },
      "source": [
        "train_df = train_df.reset_index()\n",
        "test_df = test_df.reset_index()"
      ],
      "execution_count": 0,
      "outputs": []
    },
    {
      "cell_type": "markdown",
      "metadata": {
        "id": "rC0bQOjsQjYc",
        "colab_type": "text"
      },
      "source": [
        "# 特征工程"
      ]
    },
    {
      "cell_type": "markdown",
      "metadata": {
        "id": "YgGjan-hFO7b",
        "colab_type": "text"
      },
      "source": [
        "删除TransactionDT列"
      ]
    },
    {
      "cell_type": "code",
      "metadata": {
        "id": "PShVFU0LE6jv",
        "colab_type": "code",
        "colab": {}
      },
      "source": [
        "train_df = train_df.drop([\"TransactionDT\"], axis = 1)\n",
        "test_df = test_df.drop([\"TransactionDT\"], axis = 1)"
      ],
      "execution_count": 0,
      "outputs": []
    },
    {
      "cell_type": "markdown",
      "metadata": {
        "id": "zfpwujg4E0JO",
        "colab_type": "text"
      },
      "source": [
        "缺失值的数量"
      ]
    },
    {
      "cell_type": "code",
      "metadata": {
        "id": "BGkV1SIE-eIe",
        "colab_type": "code",
        "colab": {}
      },
      "source": [
        "train_df['nulls1'] = train_df.isna().sum(axis=1)\n",
        "test_df['nulls1'] = test_df.isna().sum(axis=1)"
      ],
      "execution_count": 0,
      "outputs": []
    },
    {
      "cell_type": "code",
      "metadata": {
        "id": "UJEmKyDHFATP",
        "colab_type": "code",
        "outputId": "5117df2d-a3fd-4bdc-b2f6-a7d6f5f35d76",
        "colab": {
          "base_uri": "https://localhost:8080/",
          "height": 187
        }
      },
      "source": [
        "train_df.head(3)"
      ],
      "execution_count": 0,
      "outputs": [
        {
          "output_type": "execute_result",
          "data": {
            "text/html": [
              "<div>\n",
              "<style scoped>\n",
              "    .dataframe tbody tr th:only-of-type {\n",
              "        vertical-align: middle;\n",
              "    }\n",
              "\n",
              "    .dataframe tbody tr th {\n",
              "        vertical-align: top;\n",
              "    }\n",
              "\n",
              "    .dataframe thead th {\n",
              "        text-align: right;\n",
              "    }\n",
              "</style>\n",
              "<table border=\"1\" class=\"dataframe\">\n",
              "  <thead>\n",
              "    <tr style=\"text-align: right;\">\n",
              "      <th></th>\n",
              "      <th>TransactionID</th>\n",
              "      <th>isFraud</th>\n",
              "      <th>TransactionAmt</th>\n",
              "      <th>ProductCD</th>\n",
              "      <th>card1</th>\n",
              "      <th>card2</th>\n",
              "      <th>card3</th>\n",
              "      <th>card4</th>\n",
              "      <th>card5</th>\n",
              "      <th>card6</th>\n",
              "      <th>addr1</th>\n",
              "      <th>addr2</th>\n",
              "      <th>dist1</th>\n",
              "      <th>dist2</th>\n",
              "      <th>P_emaildomain</th>\n",
              "      <th>R_emaildomain</th>\n",
              "      <th>C1</th>\n",
              "      <th>C2</th>\n",
              "      <th>C3</th>\n",
              "      <th>C4</th>\n",
              "      <th>C5</th>\n",
              "      <th>C6</th>\n",
              "      <th>C7</th>\n",
              "      <th>C8</th>\n",
              "      <th>C9</th>\n",
              "      <th>C10</th>\n",
              "      <th>C11</th>\n",
              "      <th>C12</th>\n",
              "      <th>C13</th>\n",
              "      <th>C14</th>\n",
              "      <th>D1</th>\n",
              "      <th>D2</th>\n",
              "      <th>D3</th>\n",
              "      <th>D4</th>\n",
              "      <th>D5</th>\n",
              "      <th>D6</th>\n",
              "      <th>D7</th>\n",
              "      <th>D8</th>\n",
              "      <th>D9</th>\n",
              "      <th>D10</th>\n",
              "      <th>...</th>\n",
              "      <th>id_02</th>\n",
              "      <th>id_03</th>\n",
              "      <th>id_04</th>\n",
              "      <th>id_05</th>\n",
              "      <th>id_06</th>\n",
              "      <th>id_07</th>\n",
              "      <th>id_08</th>\n",
              "      <th>id_09</th>\n",
              "      <th>id_10</th>\n",
              "      <th>id_11</th>\n",
              "      <th>id_12</th>\n",
              "      <th>id_13</th>\n",
              "      <th>id_14</th>\n",
              "      <th>id_15</th>\n",
              "      <th>id_16</th>\n",
              "      <th>id_17</th>\n",
              "      <th>id_18</th>\n",
              "      <th>id_19</th>\n",
              "      <th>id_20</th>\n",
              "      <th>id_21</th>\n",
              "      <th>id_22</th>\n",
              "      <th>id_23</th>\n",
              "      <th>id_24</th>\n",
              "      <th>id_25</th>\n",
              "      <th>id_26</th>\n",
              "      <th>id_27</th>\n",
              "      <th>id_28</th>\n",
              "      <th>id_29</th>\n",
              "      <th>id_30</th>\n",
              "      <th>id_31</th>\n",
              "      <th>id_32</th>\n",
              "      <th>id_33</th>\n",
              "      <th>id_34</th>\n",
              "      <th>id_35</th>\n",
              "      <th>id_36</th>\n",
              "      <th>id_37</th>\n",
              "      <th>id_38</th>\n",
              "      <th>DeviceType</th>\n",
              "      <th>DeviceInfo</th>\n",
              "      <th>nulls1</th>\n",
              "    </tr>\n",
              "  </thead>\n",
              "  <tbody>\n",
              "    <tr>\n",
              "      <th>0</th>\n",
              "      <td>2987000</td>\n",
              "      <td>0</td>\n",
              "      <td>68.5</td>\n",
              "      <td>W</td>\n",
              "      <td>13926</td>\n",
              "      <td>NaN</td>\n",
              "      <td>150.0</td>\n",
              "      <td>discover</td>\n",
              "      <td>142.0</td>\n",
              "      <td>credit</td>\n",
              "      <td>315.0</td>\n",
              "      <td>87.0</td>\n",
              "      <td>19.0</td>\n",
              "      <td>NaN</td>\n",
              "      <td>NaN</td>\n",
              "      <td>NaN</td>\n",
              "      <td>1.0</td>\n",
              "      <td>1.0</td>\n",
              "      <td>0.0</td>\n",
              "      <td>0.0</td>\n",
              "      <td>0.0</td>\n",
              "      <td>1.0</td>\n",
              "      <td>0.0</td>\n",
              "      <td>0.0</td>\n",
              "      <td>1.0</td>\n",
              "      <td>0.0</td>\n",
              "      <td>2.0</td>\n",
              "      <td>0.0</td>\n",
              "      <td>1.0</td>\n",
              "      <td>1.0</td>\n",
              "      <td>14.0</td>\n",
              "      <td>NaN</td>\n",
              "      <td>13.0</td>\n",
              "      <td>NaN</td>\n",
              "      <td>NaN</td>\n",
              "      <td>NaN</td>\n",
              "      <td>NaN</td>\n",
              "      <td>NaN</td>\n",
              "      <td>NaN</td>\n",
              "      <td>13.0</td>\n",
              "      <td>...</td>\n",
              "      <td>NaN</td>\n",
              "      <td>NaN</td>\n",
              "      <td>NaN</td>\n",
              "      <td>NaN</td>\n",
              "      <td>NaN</td>\n",
              "      <td>NaN</td>\n",
              "      <td>NaN</td>\n",
              "      <td>NaN</td>\n",
              "      <td>NaN</td>\n",
              "      <td>NaN</td>\n",
              "      <td>NaN</td>\n",
              "      <td>NaN</td>\n",
              "      <td>NaN</td>\n",
              "      <td>NaN</td>\n",
              "      <td>NaN</td>\n",
              "      <td>NaN</td>\n",
              "      <td>NaN</td>\n",
              "      <td>NaN</td>\n",
              "      <td>NaN</td>\n",
              "      <td>NaN</td>\n",
              "      <td>NaN</td>\n",
              "      <td>NaN</td>\n",
              "      <td>NaN</td>\n",
              "      <td>NaN</td>\n",
              "      <td>NaN</td>\n",
              "      <td>NaN</td>\n",
              "      <td>NaN</td>\n",
              "      <td>NaN</td>\n",
              "      <td>NaN</td>\n",
              "      <td>NaN</td>\n",
              "      <td>NaN</td>\n",
              "      <td>NaN</td>\n",
              "      <td>NaN</td>\n",
              "      <td>NaN</td>\n",
              "      <td>NaN</td>\n",
              "      <td>NaN</td>\n",
              "      <td>NaN</td>\n",
              "      <td>NaN</td>\n",
              "      <td>NaN</td>\n",
              "      <td>234</td>\n",
              "    </tr>\n",
              "    <tr>\n",
              "      <th>1</th>\n",
              "      <td>2987001</td>\n",
              "      <td>0</td>\n",
              "      <td>29.0</td>\n",
              "      <td>W</td>\n",
              "      <td>2755</td>\n",
              "      <td>404.0</td>\n",
              "      <td>150.0</td>\n",
              "      <td>mastercard</td>\n",
              "      <td>102.0</td>\n",
              "      <td>credit</td>\n",
              "      <td>325.0</td>\n",
              "      <td>87.0</td>\n",
              "      <td>NaN</td>\n",
              "      <td>NaN</td>\n",
              "      <td>gmail.com</td>\n",
              "      <td>NaN</td>\n",
              "      <td>1.0</td>\n",
              "      <td>1.0</td>\n",
              "      <td>0.0</td>\n",
              "      <td>0.0</td>\n",
              "      <td>0.0</td>\n",
              "      <td>1.0</td>\n",
              "      <td>0.0</td>\n",
              "      <td>0.0</td>\n",
              "      <td>0.0</td>\n",
              "      <td>0.0</td>\n",
              "      <td>1.0</td>\n",
              "      <td>0.0</td>\n",
              "      <td>1.0</td>\n",
              "      <td>1.0</td>\n",
              "      <td>0.0</td>\n",
              "      <td>NaN</td>\n",
              "      <td>NaN</td>\n",
              "      <td>0.0</td>\n",
              "      <td>NaN</td>\n",
              "      <td>NaN</td>\n",
              "      <td>NaN</td>\n",
              "      <td>NaN</td>\n",
              "      <td>NaN</td>\n",
              "      <td>0.0</td>\n",
              "      <td>...</td>\n",
              "      <td>NaN</td>\n",
              "      <td>NaN</td>\n",
              "      <td>NaN</td>\n",
              "      <td>NaN</td>\n",
              "      <td>NaN</td>\n",
              "      <td>NaN</td>\n",
              "      <td>NaN</td>\n",
              "      <td>NaN</td>\n",
              "      <td>NaN</td>\n",
              "      <td>NaN</td>\n",
              "      <td>NaN</td>\n",
              "      <td>NaN</td>\n",
              "      <td>NaN</td>\n",
              "      <td>NaN</td>\n",
              "      <td>NaN</td>\n",
              "      <td>NaN</td>\n",
              "      <td>NaN</td>\n",
              "      <td>NaN</td>\n",
              "      <td>NaN</td>\n",
              "      <td>NaN</td>\n",
              "      <td>NaN</td>\n",
              "      <td>NaN</td>\n",
              "      <td>NaN</td>\n",
              "      <td>NaN</td>\n",
              "      <td>NaN</td>\n",
              "      <td>NaN</td>\n",
              "      <td>NaN</td>\n",
              "      <td>NaN</td>\n",
              "      <td>NaN</td>\n",
              "      <td>NaN</td>\n",
              "      <td>NaN</td>\n",
              "      <td>NaN</td>\n",
              "      <td>NaN</td>\n",
              "      <td>NaN</td>\n",
              "      <td>NaN</td>\n",
              "      <td>NaN</td>\n",
              "      <td>NaN</td>\n",
              "      <td>NaN</td>\n",
              "      <td>NaN</td>\n",
              "      <td>230</td>\n",
              "    </tr>\n",
              "    <tr>\n",
              "      <th>2</th>\n",
              "      <td>2987002</td>\n",
              "      <td>0</td>\n",
              "      <td>59.0</td>\n",
              "      <td>W</td>\n",
              "      <td>4663</td>\n",
              "      <td>490.0</td>\n",
              "      <td>150.0</td>\n",
              "      <td>visa</td>\n",
              "      <td>166.0</td>\n",
              "      <td>debit</td>\n",
              "      <td>330.0</td>\n",
              "      <td>87.0</td>\n",
              "      <td>287.0</td>\n",
              "      <td>NaN</td>\n",
              "      <td>outlook.com</td>\n",
              "      <td>NaN</td>\n",
              "      <td>1.0</td>\n",
              "      <td>1.0</td>\n",
              "      <td>0.0</td>\n",
              "      <td>0.0</td>\n",
              "      <td>0.0</td>\n",
              "      <td>1.0</td>\n",
              "      <td>0.0</td>\n",
              "      <td>0.0</td>\n",
              "      <td>1.0</td>\n",
              "      <td>0.0</td>\n",
              "      <td>1.0</td>\n",
              "      <td>0.0</td>\n",
              "      <td>1.0</td>\n",
              "      <td>1.0</td>\n",
              "      <td>0.0</td>\n",
              "      <td>NaN</td>\n",
              "      <td>NaN</td>\n",
              "      <td>0.0</td>\n",
              "      <td>NaN</td>\n",
              "      <td>NaN</td>\n",
              "      <td>NaN</td>\n",
              "      <td>NaN</td>\n",
              "      <td>NaN</td>\n",
              "      <td>0.0</td>\n",
              "      <td>...</td>\n",
              "      <td>NaN</td>\n",
              "      <td>NaN</td>\n",
              "      <td>NaN</td>\n",
              "      <td>NaN</td>\n",
              "      <td>NaN</td>\n",
              "      <td>NaN</td>\n",
              "      <td>NaN</td>\n",
              "      <td>NaN</td>\n",
              "      <td>NaN</td>\n",
              "      <td>NaN</td>\n",
              "      <td>NaN</td>\n",
              "      <td>NaN</td>\n",
              "      <td>NaN</td>\n",
              "      <td>NaN</td>\n",
              "      <td>NaN</td>\n",
              "      <td>NaN</td>\n",
              "      <td>NaN</td>\n",
              "      <td>NaN</td>\n",
              "      <td>NaN</td>\n",
              "      <td>NaN</td>\n",
              "      <td>NaN</td>\n",
              "      <td>NaN</td>\n",
              "      <td>NaN</td>\n",
              "      <td>NaN</td>\n",
              "      <td>NaN</td>\n",
              "      <td>NaN</td>\n",
              "      <td>NaN</td>\n",
              "      <td>NaN</td>\n",
              "      <td>NaN</td>\n",
              "      <td>NaN</td>\n",
              "      <td>NaN</td>\n",
              "      <td>NaN</td>\n",
              "      <td>NaN</td>\n",
              "      <td>NaN</td>\n",
              "      <td>NaN</td>\n",
              "      <td>NaN</td>\n",
              "      <td>NaN</td>\n",
              "      <td>NaN</td>\n",
              "      <td>NaN</td>\n",
              "      <td>211</td>\n",
              "    </tr>\n",
              "  </tbody>\n",
              "</table>\n",
              "<p>3 rows × 434 columns</p>\n",
              "</div>"
            ],
            "text/plain": [
              "   TransactionID  isFraud  TransactionAmt  ... DeviceType  DeviceInfo  nulls1\n",
              "0        2987000        0            68.5  ...        NaN         NaN     234\n",
              "1        2987001        0            29.0  ...        NaN         NaN     230\n",
              "2        2987002        0            59.0  ...        NaN         NaN     211\n",
              "\n",
              "[3 rows x 434 columns]"
            ]
          },
          "metadata": {
            "tags": []
          },
          "execution_count": 9
        }
      ]
    },
    {
      "cell_type": "markdown",
      "metadata": {
        "id": "MZDVtypuFXfs",
        "colab_type": "text"
      },
      "source": [
        "只选择部分列(前52个特征)用于训练\n",
        "- todo: 使用全部特征列"
      ]
    },
    {
      "cell_type": "code",
      "metadata": {
        "id": "mqboeQoDFFSq",
        "colab_type": "code",
        "colab": {}
      },
      "source": [
        "train_df = train_df.iloc[:, :53]\n",
        "test_df = test_df.iloc[:, :52]"
      ],
      "execution_count": 0,
      "outputs": []
    },
    {
      "cell_type": "markdown",
      "metadata": {
        "id": "QR000s5rFq8B",
        "colab_type": "text"
      },
      "source": [
        "减少内存使用率的处理"
      ]
    },
    {
      "cell_type": "code",
      "metadata": {
        "id": "2BgnYWV3FW7x",
        "colab_type": "code",
        "colab": {}
      },
      "source": [
        "#Based on this great kernel https://www.kaggle.com/arjanso/reducing-dataframe-memory-size-by-65\n",
        "def reduce_mem_usage(df):\n",
        "    start_mem_usg = df.memory_usage().sum() / 1024**2 \n",
        "    print(\"Memory usage of properties dataframe is :\",start_mem_usg,\" MB\")\n",
        "    NAlist = [] # Keeps track of columns that have missing values filled in. \n",
        "    for col in df.columns:\n",
        "        if df[col].dtype != object:  # Exclude strings                       \n",
        "            # make variables for Int, max and min\n",
        "            IsInt = False\n",
        "            mx = df[col].max()\n",
        "            mn = df[col].min()\n",
        "            # Integer does not support NA, therefore, NA needs to be filled\n",
        "            if not np.isfinite(df[col]).all(): \n",
        "                NAlist.append(col)\n",
        "                df[col].fillna(mn-1,inplace=True)  \n",
        "                   \n",
        "            # test if column can be converted to an integer\n",
        "            asint = df[col].fillna(0).astype(np.int64)\n",
        "            result = (df[col] - asint)\n",
        "            result = result.sum()\n",
        "            if result > -0.01 and result < 0.01:\n",
        "                IsInt = True            \n",
        "            # Make Integer/unsigned Integer datatypes\n",
        "            if IsInt:\n",
        "                if mn >= 0:\n",
        "                    if mx < 255:\n",
        "                        df[col] = df[col].astype(np.uint8)\n",
        "                    elif mx < 65535:\n",
        "                        df[col] = df[col].astype(np.uint16)\n",
        "                    elif mx < 4294967295:\n",
        "                        df[col] = df[col].astype(np.uint32)\n",
        "                    else:\n",
        "                        df[col] = df[col].astype(np.uint64)\n",
        "                else:\n",
        "                    if mn > np.iinfo(np.int8).min and mx < np.iinfo(np.int8).max:\n",
        "                        df[col] = df[col].astype(np.int8)\n",
        "                    elif mn > np.iinfo(np.int16).min and mx < np.iinfo(np.int16).max:\n",
        "                        df[col] = df[col].astype(np.int16)\n",
        "                    elif mn > np.iinfo(np.int32).min and mx < np.iinfo(np.int32).max:\n",
        "                        df[col] = df[col].astype(np.int32)\n",
        "                    elif mn > np.iinfo(np.int64).min and mx < np.iinfo(np.int64).max:\n",
        "                        df[col] = df[col].astype(np.int64)    \n",
        "            # Make float datatypes 32 bit\n",
        "            else:\n",
        "                df[col] = df[col].astype(np.float32)\n",
        "            \n",
        "            # Print new column type\n",
        "\n",
        "    # Print final result\n",
        "    mem_usg = df.memory_usage().sum() / 1024**2 \n",
        "    return df, NAlist"
      ],
      "execution_count": 0,
      "outputs": []
    },
    {
      "cell_type": "code",
      "metadata": {
        "id": "n2EwBT57FsnK",
        "colab_type": "code",
        "outputId": "65ea2bc5-89e3-4a82-cc6e-0d54ebc933bd",
        "colab": {
          "base_uri": "https://localhost:8080/",
          "height": 35
        }
      },
      "source": [
        "train_df, NAlist = reduce_mem_usage(train_df)"
      ],
      "execution_count": 0,
      "outputs": [
        {
          "output_type": "stream",
          "text": [
            "Memory usage of properties dataframe is : 238.7895965576172  MB\n"
          ],
          "name": "stdout"
        }
      ]
    },
    {
      "cell_type": "code",
      "metadata": {
        "id": "suAFcQ1YF5bP",
        "colab_type": "code",
        "outputId": "f9c689d5-e066-40cb-b38e-d51445e71f46",
        "colab": {
          "base_uri": "https://localhost:8080/",
          "height": 35
        }
      },
      "source": [
        "test_df, NAlist = reduce_mem_usage(test_df)"
      ],
      "execution_count": 0,
      "outputs": [
        {
          "output_type": "stream",
          "text": [
            "Memory usage of properties dataframe is : 201.0188446044922  MB\n"
          ],
          "name": "stdout"
        }
      ]
    },
    {
      "cell_type": "code",
      "metadata": {
        "id": "ZYmNWrVSF6SD",
        "colab_type": "code",
        "colab": {}
      },
      "source": [
        "del train_transaction, train_identity, test_transaction, test_identity"
      ],
      "execution_count": 0,
      "outputs": []
    },
    {
      "cell_type": "markdown",
      "metadata": {
        "id": "PrCpRL-uREah",
        "colab_type": "text"
      },
      "source": [
        "邮箱处理"
      ]
    },
    {
      "cell_type": "code",
      "metadata": {
        "id": "whYDpwrjF9ht",
        "colab_type": "code",
        "colab": {}
      },
      "source": [
        "emails = {'gmail': 'google', 'att.net': 'att', 'twc.com': 'spectrum', 'scranton.edu': 'other', 'optonline.net': 'other', 'hotmail.co.uk': 'microsoft', 'comcast.net': 'other', 'yahoo.com.mx': 'yahoo', 'yahoo.fr': 'yahoo', 'yahoo.es': 'yahoo', 'charter.net': 'spectrum', 'live.com': 'microsoft', 'aim.com': 'aol', 'hotmail.de': 'microsoft', 'centurylink.net': 'centurylink', 'gmail.com': 'google', 'me.com': 'apple', 'earthlink.net': 'other', 'gmx.de': 'other', 'web.de': 'other', 'cfl.rr.com': 'other', 'hotmail.com': 'microsoft', 'protonmail.com': 'other', 'hotmail.fr': 'microsoft', 'windstream.net': 'other', 'outlook.es': 'microsoft', 'yahoo.co.jp': 'yahoo', 'yahoo.de': 'yahoo', 'servicios-ta.com': 'other', 'netzero.net': 'other', 'suddenlink.net': 'other', 'roadrunner.com': 'other', 'sc.rr.com': 'other', 'live.fr': 'microsoft', 'verizon.net': 'yahoo', 'msn.com': 'microsoft', 'q.com': 'centurylink', 'prodigy.net.mx': 'att', 'frontier.com': 'yahoo', 'anonymous.com': 'other', 'rocketmail.com': 'yahoo', 'sbcglobal.net': 'att', 'frontiernet.net': 'yahoo', 'ymail.com': 'yahoo', 'outlook.com': 'microsoft', 'mail.com': 'other', 'bellsouth.net': 'other', 'embarqmail.com': 'centurylink', 'cableone.net': 'other', 'hotmail.es': 'microsoft', 'mac.com': 'apple', 'yahoo.co.uk': 'yahoo', 'netzero.com': 'other', 'yahoo.com': 'yahoo', 'live.com.mx': 'microsoft', 'ptd.net': 'other', 'cox.net': 'other', 'aol.com': 'aol', 'juno.com': 'other', 'icloud.com': 'apple'}\n",
        "us_emails = ['gmail', 'net', 'edu']\n",
        "#https://www.kaggle.com/c/ieee-fraud-detection/discussion/100499#latest_df-579654\n",
        "for c in ['P_emaildomain', 'R_emaildomain']:\n",
        "    train_df[c + '_bin'] = train_df[c].map(emails)\n",
        "    test_df[c + '_bin'] = test_df[c].map(emails)\n",
        "    \n",
        "    train_df[c + '_suffix'] = train_df[c].map(lambda x: str(x).split('.')[-1])\n",
        "    test_df[c + '_suffix'] = test_df[c].map(lambda x: str(x).split('.')[-1])\n",
        "    \n",
        "    train_df[c + '_suffix'] = train_df[c + '_suffix'].map(lambda x: x if str(x) not in us_emails else 'us')\n",
        "    test_df[c + '_suffix'] = test_df[c + '_suffix'].map(lambda x: x if str(x) not in us_emails else 'us')"
      ],
      "execution_count": 0,
      "outputs": []
    },
    {
      "cell_type": "code",
      "metadata": {
        "id": "TPBPF6hUGANI",
        "colab_type": "code",
        "colab": {}
      },
      "source": [
        "for c1, c2 in train_df.dtypes.reset_index().values:\n",
        "    if c2=='O':\n",
        "        train_df[c1] = train_df[c1].map(lambda x: str(x).lower())\n",
        "        test_df[c1] = test_df[c1].map(lambda x: str(x).lower())"
      ],
      "execution_count": 0,
      "outputs": []
    },
    {
      "cell_type": "code",
      "metadata": {
        "id": "t5epOtqOGCaD",
        "colab_type": "code",
        "colab": {}
      },
      "source": [
        "numerical = [\"TransactionAmt\", \"nulls1\", \"dist1\", \"dist2\"] + [\"C\" + str(i) for i in range(1, 15)] + \\\n",
        "            [\"D\" + str(i) for i in range(1, 16)] + \\\n",
        "            [\"V\" + str(i) for i in range(1, 340)]\n",
        "categorical = [\"ProductCD\", \"card1\", \"card2\", \"card3\", \"card4\", \"card5\", \"card6\", \"addr1\", \"addr2\",\n",
        "               \"P_emaildomain_bin\", \"P_emaildomain_suffix\", \"R_emaildomain_bin\", \"R_emaildomain_suffix\",\n",
        "               \"P_emaildomain\", \"R_emaildomain\",\n",
        "              \"DeviceInfo\", \"DeviceType\"] + [\"id_0\" + str(i) for i in range(1, 10)] +\\\n",
        "                [\"id_\" + str(i) for i in range(10, 39)] + \\\n",
        "                 [\"M\" + str(i) for i in range(1, 10)]"
      ],
      "execution_count": 0,
      "outputs": []
    },
    {
      "cell_type": "code",
      "metadata": {
        "id": "CMNtoX08GMHE",
        "colab_type": "code",
        "colab": {}
      },
      "source": [
        "numerical = [col for col in numerical if col in train_df.columns]\n",
        "categorical = [col for col in categorical if col in train_df.columns]"
      ],
      "execution_count": 0,
      "outputs": []
    },
    {
      "cell_type": "markdown",
      "metadata": {
        "id": "rVkjLES0RU9v",
        "colab_type": "text"
      },
      "source": [
        "数值型特征缺失值填充"
      ]
    },
    {
      "cell_type": "code",
      "metadata": {
        "id": "VWJGzPIbGN6g",
        "colab_type": "code",
        "colab": {}
      },
      "source": [
        "def nan2mean(df):\n",
        "    for x in list(df.columns.values):\n",
        "        if x in numerical:\n",
        "            #print(\"___________________\"+x)\n",
        "            #print(df[x].isna().sum())\n",
        "            df[x] = df[x].fillna(0)\n",
        "           #print(\"Mean-\"+str(df[x].mean()))\n",
        "    return df\n",
        "train_df=nan2mean(train_df)\n",
        "test_df=nan2mean(test_df)"
      ],
      "execution_count": 0,
      "outputs": []
    },
    {
      "cell_type": "markdown",
      "metadata": {
        "id": "PSI_OPMdGSgx",
        "colab_type": "text"
      },
      "source": [
        "类别型特征缺失值处理和Label Encoding"
      ]
    },
    {
      "cell_type": "code",
      "metadata": {
        "id": "7RjuUwtlGP_M",
        "colab_type": "code",
        "colab": {}
      },
      "source": [
        "# Label Encoding\n",
        "category_counts = {}\n",
        "for f in categorical:\n",
        "    train_df[f] = train_df[f].replace(\"nan\", \"other\")\n",
        "    train_df[f] = train_df[f].replace(np.nan, \"other\")\n",
        "    test_df[f] = test_df[f].replace(\"nan\", \"other\")\n",
        "    test_df[f] = test_df[f].replace(np.nan, \"other\")\n",
        "    lbl = preprocessing.LabelEncoder()\n",
        "    lbl.fit(list(train_df[f].values) + list(test_df[f].values))\n",
        "    train_df[f] = lbl.transform(list(train_df[f].values))\n",
        "    test_df[f] = lbl.transform(list(test_df[f].values))\n",
        "    category_counts[f] = len(list(lbl.classes_)) + 1\n",
        "# train_df = train_df.reset_index()\n",
        "# test_df = test_df.reset_index()"
      ],
      "execution_count": 0,
      "outputs": []
    },
    {
      "cell_type": "markdown",
      "metadata": {
        "id": "_W1FOY3uGYMU",
        "colab_type": "text"
      },
      "source": [
        "数值型特征归一化"
      ]
    },
    {
      "cell_type": "code",
      "metadata": {
        "id": "5dRH2EcsGVUZ",
        "colab_type": "code",
        "colab": {}
      },
      "source": [
        "for column in numerical:\n",
        "    scaler = StandardScaler()\n",
        "    if train_df[column].max() > 100 and train_df[column].min() >= 0:\n",
        "        train_df[column] = np.log1p(train_df[column])\n",
        "        test_df[column] = np.log1p(test_df[column])\n",
        "    scaler.fit(np.concatenate([train_df[column].values.reshape(-1,1), test_df[column].values.reshape(-1,1)]))\n",
        "    train_df[column] = scaler.transform(train_df[column].values.reshape(-1,1))\n",
        "    test_df[column] = scaler.transform(test_df[column].values.reshape(-1,1))\n",
        "    "
      ],
      "execution_count": 0,
      "outputs": []
    },
    {
      "cell_type": "code",
      "metadata": {
        "id": "ylRul3qWGcFo",
        "colab_type": "code",
        "colab": {}
      },
      "source": [
        "target = 'isFraud'\n",
        "features = [feature for feature in train_df.columns if feature != target]"
      ],
      "execution_count": 0,
      "outputs": []
    },
    {
      "cell_type": "code",
      "metadata": {
        "id": "lIDb1kKpGeb1",
        "colab_type": "code",
        "colab": {}
      },
      "source": [
        "def get_input_features(df):\n",
        "    X = {'numerical':np.array(df[numerical])}\n",
        "    for cat in categorical:\n",
        "        X[cat] = np.array(df[cat])\n",
        "    return X"
      ],
      "execution_count": 0,
      "outputs": []
    },
    {
      "cell_type": "code",
      "metadata": {
        "id": "UY2zLkCZ7n49",
        "colab_type": "code",
        "colab": {}
      },
      "source": [
        "categorical.remove(\"card1\")"
      ],
      "execution_count": 0,
      "outputs": []
    },
    {
      "cell_type": "markdown",
      "metadata": {
        "id": "xbL9XGQ-Gh5J",
        "colab_type": "text"
      },
      "source": [
        "# 模型定义"
      ]
    },
    {
      "cell_type": "code",
      "metadata": {
        "id": "72InVO6GG273",
        "colab_type": "code",
        "colab": {}
      },
      "source": [
        "def make_model():    \n",
        "    k.clear_session()\n",
        "\n",
        "    categorical_inputs = []\n",
        "    for cat in categorical:\n",
        "        categorical_inputs.append(Input(shape=[1], name=cat))\n",
        "\n",
        "    categorical_embeddings = []\n",
        "    for i, cat in enumerate(categorical):\n",
        "        categorical_embeddings.append(\n",
        "            Embedding(category_counts[cat], int(np.log1p(category_counts[cat]) + 1), name = cat + \"_embed\")(categorical_inputs[i]))\n",
        "\n",
        "    categorical_logits = Concatenate(name = \"categorical_conc\")([Flatten()(SpatialDropout1D(.1)(cat_emb)) for cat_emb in categorical_embeddings])\n",
        "#     categorical_logits = Dropout(.5)(categorical_logits)\n",
        "\n",
        "    numerical_inputs = Input(shape=[tr_df[numerical].shape[1]], name = 'numerical')\n",
        "    numerical_logits = Dropout(.1)(numerical_inputs)\n",
        "  \n",
        "    x = Concatenate()([\n",
        "        categorical_logits, \n",
        "        numerical_logits,\n",
        "    ])\n",
        "#     x = categorical_logits\n",
        "    x = BatchNormalization()(x)\n",
        "    x = Dense(200, activation = 'relu')(x)\n",
        "    x = Dropout(.2)(x)\n",
        "    x = Dense(100, activation = 'relu')(x)\n",
        "    x = Dropout(.2)(x)\n",
        "    out = Dense(1, activation = 'sigmoid')(x)\n",
        "    \n",
        "    model = Model(inputs=categorical_inputs + [numerical_inputs],outputs=out)\n",
        "    loss = \"binary_crossentropy\"\n",
        "    model.compile(optimizer=Adam(lr = 0.001), loss = loss, metrics = ['accuracy'])\n",
        "    return model"
      ],
      "execution_count": 0,
      "outputs": []
    },
    {
      "cell_type": "markdown",
      "metadata": {
        "id": "IxPFH8dy6sUq",
        "colab_type": "text"
      },
      "source": [
        "# 模型训练"
      ]
    },
    {
      "cell_type": "code",
      "metadata": {
        "id": "dp7C_GoYmFVT",
        "colab_type": "code",
        "colab": {}
      },
      "source": [
        "nfold = 5\n",
        "skf = StratifiedKFold(n_splits=nfold, shuffle=True, random_state=1126)\n",
        "roc_aucs = []\n",
        "\n",
        "nround = 100\n",
        "Patience = 3\n",
        "\n",
        "X_test = get_input_features(test_df)\n",
        "\n",
        "fold_i = 1\n",
        "for train_idx, valid_idx in skf.split(train_df, train_df[target]):\n",
        "  \n",
        "    print(\"\\nfold {}\".format(fold_i))\n",
        "    X_train, y_train = train_df.iloc[train_idx][features], train_df.iloc[train_idx][target]                        \n",
        "    X_valid, y_valid = train_df.iloc[valid_idx][features], train_df.iloc[valid_idx][target]\n",
        "    \n",
        "    X_train = get_input_features(X_train)\n",
        "    X_valid = get_input_features(X_valid)\n",
        "    \n",
        "    model = make_model()\n",
        "    best_score = 0\n",
        "    patience = 0\n",
        "    for i in range(nround):\n",
        "        if patience < Patience:\n",
        "            hist = model.fit(X_train, y_train, validation_data = (X_valid,y_valid), batch_size = 1000, epochs = 1, verbose = 1)\n",
        "            valid_preds = model.predict(X_valid, batch_size = 8000, verbose = True)\n",
        "            score = roc_auc_score(y_valid, valid_preds)\n",
        "            print('fold: {}, round: {}, AUC: {}'.format(fold_i, i, score))\n",
        "            if score > best_score:\n",
        "                model.save_weights(\"model.h5\")\n",
        "                best_score = score\n",
        "                patience = 0\n",
        "            else:\n",
        "                patience += 1\n",
        "                \n",
        "    # 加载最优模型            \n",
        "    model.load_weights(\"model.h5\")\n",
        "    \n",
        "    score = roc_auc_score(y_valid, valid_preds)\n",
        "    print('final AUC:', score)\n",
        "    \n",
        "    if fold_i == 1:\n",
        "        predictions = model.predict(X_test) / nfold\n",
        "    else:    \n",
        "        predictions += model.predict(X_test) / nfold\n",
        "    \n",
        "    # Scores \n",
        "    roc_aucs.append(score)\n",
        "\n",
        "    fold_i += 1\n",
        "    \n",
        "print(np.mean(roc_aucs))"
      ],
      "execution_count": 0,
      "outputs": []
    },
    {
      "cell_type": "markdown",
      "metadata": {
        "id": "oE_aHmdER6w-",
        "colab_type": "text"
      },
      "source": [
        "# 模型预测"
      ]
    },
    {
      "cell_type": "code",
      "metadata": {
        "id": "FlIfQGRxJ9jT",
        "colab_type": "code",
        "colab": {}
      },
      "source": [
        "sample_submission['isFraud'] = predictions\n",
        "sample_submission.to_csv('submission_IEEE.csv')"
      ],
      "execution_count": 0,
      "outputs": []
    },
    {
      "cell_type": "markdown",
      "metadata": {
        "id": "7dReG82L3VGc",
        "colab_type": "text"
      },
      "source": [
        "参考资料\n",
        "- https://www.kaggle.com/ryches/keras-nn-starter\n",
        "- https://www.kaggle.com/vincentlugat/ieee-lgb-bayesian-opt"
      ]
    },
    {
      "cell_type": "code",
      "metadata": {
        "id": "qAOGGQ053ZXf",
        "colab_type": "code",
        "colab": {}
      },
      "source": [
        ""
      ],
      "execution_count": 0,
      "outputs": []
    }
  ]
}