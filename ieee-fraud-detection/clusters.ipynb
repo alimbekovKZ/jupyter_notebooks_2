{
 "cells": [
  {
   "cell_type": "code",
   "execution_count": 1,
   "metadata": {
    "_cell_guid": "b1076dfc-b9ad-4769-8c92-a6c4dae69d19",
    "_uuid": "8f2839f25d086af736a60e9eeb907d3b93b6e0e5"
   },
   "outputs": [],
   "source": [
    "import os\n",
    "\n",
    "import numpy as np\n",
    "import pandas as pd\n",
    "import lightgbm as lgb\n",
    "from sklearn.model_selection import KFold\n",
    "from sklearn.metrics import roc_auc_score"
   ]
  },
  {
   "cell_type": "code",
   "execution_count": 2,
   "metadata": {
    "_cell_guid": "79c7e3d0-c299-4dcb-8224-4455121ee9b0",
    "_uuid": "d629ff2d2480ee46fbb7e2d37f6b5fab8052498a"
   },
   "outputs": [
    {
     "name": "stdout",
     "output_type": "stream",
     "text": [
      "Train dataset has 100000 rows and 434 columns.\n",
      "Test dataset has 100000 rows and 433 columns.\n"
     ]
    }
   ],
   "source": [
    "raw_data_path = 'data/'\n",
    "nrows = 100000\n",
    "\n",
    "train_identity = pd.read_csv(f'{raw_data_path}train_identity.csv',nrows=nrows)\n",
    "train_transaction = pd.read_csv(f'{raw_data_path}train_transaction.csv',nrows=nrows)\n",
    "test_identity = pd.read_csv(f'{raw_data_path}test_identity.csv',nrows=nrows)\n",
    "test_transaction = pd.read_csv(f'{raw_data_path}test_transaction.csv',nrows=nrows)\n",
    "sub = pd.read_csv(f'{raw_data_path}sample_submission.csv',nrows=nrows)\n",
    "'''\n",
    "train_identity = pd.read_csv(f'{raw_data_path}train_identity.csv')\n",
    "train_transaction = pd.read_csv(f'{raw_data_path}train_transaction.csv')\n",
    "test_identity = pd.read_csv(f'{raw_data_path}test_identity.csv')\n",
    "test_transaction = pd.read_csv(f'{raw_data_path}test_transaction.csv')\n",
    "sub = pd.read_csv(f'{raw_data_path}sample_submission.csv')\n",
    "'''\n",
    "# let's combine the data and work with the whole dataset\n",
    "train = pd.merge(train_transaction, train_identity, on='TransactionID', how='left')\n",
    "test = pd.merge(test_transaction, test_identity, on='TransactionID', how='left')\n",
    "\n",
    "print(f'Train dataset has {train.shape[0]} rows and {train.shape[1]} columns.')\n",
    "print(f'Test dataset has {test.shape[0]} rows and {test.shape[1]} columns.')"
   ]
  },
  {
   "cell_type": "code",
   "execution_count": 3,
   "metadata": {},
   "outputs": [],
   "source": [
    "train['TransactionAmt_to_mean_card1'] = train['TransactionAmt'] / train.groupby(['card1'])['TransactionAmt'].transform('mean')\n",
    "train['TransactionAmt_to_mean_card4'] = train['TransactionAmt'] / train.groupby(['card4'])['TransactionAmt'].transform('mean')\n",
    "train['TransactionAmt_to_std_card1'] = train['TransactionAmt'] / train.groupby(['card1'])['TransactionAmt'].transform('std')\n",
    "train['TransactionAmt_to_std_card4'] = train['TransactionAmt'] / train.groupby(['card4'])['TransactionAmt'].transform('std')\n",
    "\n",
    "test['TransactionAmt_to_mean_card1'] = test['TransactionAmt'] / test.groupby(['card1'])['TransactionAmt'].transform('mean')\n",
    "test['TransactionAmt_to_mean_card4'] = test['TransactionAmt'] / test.groupby(['card4'])['TransactionAmt'].transform('mean')\n",
    "test['TransactionAmt_to_std_card1'] = test['TransactionAmt'] / test.groupby(['card1'])['TransactionAmt'].transform('std')\n",
    "test['TransactionAmt_to_std_card4'] = test['TransactionAmt'] / test.groupby(['card4'])['TransactionAmt'].transform('std')\n",
    "\n",
    "train['id_02_to_mean_card1'] = train['id_02'] / train.groupby(['card1'])['id_02'].transform('mean')\n",
    "train['id_02_to_mean_card4'] = train['id_02'] / train.groupby(['card4'])['id_02'].transform('mean')\n",
    "train['id_02_to_std_card1'] = train['id_02'] / train.groupby(['card1'])['id_02'].transform('std')\n",
    "train['id_02_to_std_card4'] = train['id_02'] / train.groupby(['card4'])['id_02'].transform('std')\n",
    "\n",
    "test['id_02_to_mean_card1'] = test['id_02'] / test.groupby(['card1'])['id_02'].transform('mean')\n",
    "test['id_02_to_mean_card4'] = test['id_02'] / test.groupby(['card4'])['id_02'].transform('mean')\n",
    "test['id_02_to_std_card1'] = test['id_02'] / test.groupby(['card1'])['id_02'].transform('std')\n",
    "test['id_02_to_std_card4'] = test['id_02'] / test.groupby(['card4'])['id_02'].transform('std')\n",
    "\n",
    "train['D15_to_mean_card1'] = train['D15'] / train.groupby(['card1'])['D15'].transform('mean')\n",
    "train['D15_to_mean_card4'] = train['D15'] / train.groupby(['card4'])['D15'].transform('mean')\n",
    "train['D15_to_std_card1'] = train['D15'] / train.groupby(['card1'])['D15'].transform('std')\n",
    "train['D15_to_std_card4'] = train['D15'] / train.groupby(['card4'])['D15'].transform('std')\n",
    "\n",
    "test['D15_to_mean_card1'] = test['D15'] / test.groupby(['card1'])['D15'].transform('mean')\n",
    "test['D15_to_mean_card4'] = test['D15'] / test.groupby(['card4'])['D15'].transform('mean')\n",
    "test['D15_to_std_card1'] = test['D15'] / test.groupby(['card1'])['D15'].transform('std')\n",
    "test['D15_to_std_card4'] = test['D15'] / test.groupby(['card4'])['D15'].transform('std')\n",
    "\n",
    "\n",
    "train['dist1_to_mean_card1'] = train['dist1'] / train.groupby(['card1'])['dist1'].transform('mean')\n",
    "train['dist1_to_mean_card4'] = train['dist1'] / train.groupby(['card4'])['dist1'].transform('mean')\n",
    "train['dist1_to_std_card1'] = train['dist1'] / train.groupby(['card1'])['dist1'].transform('std')\n",
    "train['dist1_to_std_card4'] = train['dist1'] / train.groupby(['card4'])['dist1'].transform('std')\n",
    "\n",
    "test['dist1_to_mean_card1'] = test['dist1'] / test.groupby(['card1'])['dist1'].transform('mean')\n",
    "test['dist1_to_mean_card4'] = test['dist1'] / test.groupby(['card4'])['dist1'].transform('mean')\n",
    "test['dist1_to_std_card1'] = test['dist1'] / test.groupby(['card1'])['dist1'].transform('std')\n",
    "test['dist1_to_std_card4'] = test['dist1'] / test.groupby(['card4'])['dist1'].transform('std')\n",
    "\n",
    "\n",
    "train['D4_to_mean_card1'] = train['D4'] / train.groupby(['card1'])['D4'].transform('mean')\n",
    "train['D4_to_mean_card4'] = train['D4'] / train.groupby(['card4'])['D4'].transform('mean')\n",
    "train['D4_to_std_card1'] = train['D4'] / train.groupby(['card1'])['D4'].transform('std')\n",
    "train['D4_to_std_card4'] = train['D4'] / train.groupby(['card4'])['D4'].transform('std')\n",
    "\n",
    "test['D4_to_mean_card1'] = test['D4'] / test.groupby(['card1'])['D4'].transform('mean')\n",
    "test['D4_to_mean_card4'] = test['D4'] / test.groupby(['card4'])['D4'].transform('mean')\n",
    "test['D4_to_std_card1'] = test['D4'] / test.groupby(['card1'])['D4'].transform('std')\n",
    "test['D4_to_std_card4'] = test['D4'] / test.groupby(['card4'])['D4'].transform('std')\n",
    "\n",
    "train['card1_count'] = train.groupby(['card1'])['TransactionID'].transform('count')\n",
    "train['card2_count'] = train.groupby(['card2'])['TransactionID'].transform('count')\n",
    "train['card4_count'] = train.groupby(['card4'])['TransactionID'].transform('count')\n",
    "\n",
    "test['card1_count'] = test.groupby(['card1'])['TransactionID'].transform('count')\n",
    "test['card2_count'] = test.groupby(['card2'])['TransactionID'].transform('count')\n",
    "test['card4_count'] = test.groupby(['card4'])['TransactionID'].transform('count')"
   ]
  },
  {
   "cell_type": "code",
   "execution_count": 4,
   "metadata": {},
   "outputs": [],
   "source": [
    "many_null_cols = [col for col in train.columns if train[col].isnull().sum() / train.shape[0] > 0.9]\n",
    "many_null_cols_test = [col for col in test.columns if test[col].isnull().sum() / test.shape[0] > 0.9]"
   ]
  },
  {
   "cell_type": "code",
   "execution_count": 5,
   "metadata": {},
   "outputs": [],
   "source": [
    "big_top_value_cols = [col for col in train.columns if train[col].value_counts(dropna=False, normalize=True).values[0] > 0.9]\n",
    "big_top_value_cols_test = [col for col in test.columns if test[col].value_counts(dropna=False, normalize=True).values[0] > 0.9]"
   ]
  },
  {
   "cell_type": "code",
   "execution_count": 6,
   "metadata": {},
   "outputs": [
    {
     "data": {
      "text/plain": [
       "False"
      ]
     },
     "execution_count": 6,
     "metadata": {},
     "output_type": "execute_result"
    }
   ],
   "source": [
    "one_value_cols = [col for col in train.columns if train[col].nunique() <= 1]\n",
    "one_value_cols_test = [col for col in test.columns if test[col].nunique() <= 1]\n",
    "one_value_cols == one_value_cols_test"
   ]
  },
  {
   "cell_type": "code",
   "execution_count": 7,
   "metadata": {},
   "outputs": [
    {
     "data": {
      "text/plain": [
       "137"
      ]
     },
     "execution_count": 7,
     "metadata": {},
     "output_type": "execute_result"
    }
   ],
   "source": [
    "cols_to_drop = list(set(many_null_cols + many_null_cols_test + big_top_value_cols + big_top_value_cols_test + one_value_cols+ one_value_cols_test))\n",
    "len(cols_to_drop)"
   ]
  },
  {
   "cell_type": "code",
   "execution_count": 8,
   "metadata": {},
   "outputs": [],
   "source": [
    "cols_to_drop.remove('isFraud')"
   ]
  },
  {
   "cell_type": "code",
   "execution_count": 9,
   "metadata": {},
   "outputs": [],
   "source": [
    "train = train.drop(cols_to_drop, axis=1)\n",
    "test = test.drop(cols_to_drop, axis=1)"
   ]
  },
  {
   "cell_type": "code",
   "execution_count": 10,
   "metadata": {},
   "outputs": [],
   "source": [
    "cat_cols = ['id_12', 'id_13', 'id_14', 'id_15', 'id_16', 'id_17', 'id_18', 'id_19', 'id_20', 'id_21', 'id_22', 'id_23', 'id_24', 'id_25', 'id_26', 'id_27', 'id_28', 'id_29',\n",
    "            'id_30', 'id_31', 'id_32', 'id_33', 'id_34', 'id_35', 'id_36', 'id_37', 'id_38', 'DeviceType', 'DeviceInfo', 'ProductCD', 'card4', 'card6', 'M4','P_emaildomain',\n",
    "            'R_emaildomain', 'card1', 'card2', 'card3',  'card5', 'addr1', 'addr2', 'M1', 'M2', 'M3', 'M5', 'M6', 'M7', 'M8', 'M9']\n",
    "for col in cat_cols:\n",
    "    if col in train.columns:\n",
    "        train = train.drop([col], axis=1)\n",
    "        test = test.drop([col], axis=1)"
   ]
  },
  {
   "cell_type": "code",
   "execution_count": 11,
   "metadata": {},
   "outputs": [],
   "source": [
    "X = train.sort_values('TransactionDT').drop(['isFraud', 'TransactionDT', 'TransactionID'], axis=1)\n",
    "y = train.sort_values('TransactionDT')['isFraud']\n",
    "X_test = test.sort_values('TransactionDT').drop(['TransactionDT', 'TransactionID'], axis=1)\n",
    "\n",
    "train = train[[\"TransactionDT\", 'TransactionID']]\n",
    "test = test[[\"TransactionDT\", 'TransactionID']]"
   ]
  },
  {
   "cell_type": "code",
   "execution_count": 12,
   "metadata": {},
   "outputs": [
    {
     "data": {
      "text/plain": [
       "(100000, 284)"
      ]
     },
     "execution_count": 12,
     "metadata": {},
     "output_type": "execute_result"
    }
   ],
   "source": [
    "X.shape"
   ]
  },
  {
   "cell_type": "code",
   "execution_count": 13,
   "metadata": {},
   "outputs": [],
   "source": [
    "from sklearn import preprocessing\n",
    "from sklearn.cluster import KMeans\n",
    "from sklearn.preprocessing import StandardScaler"
   ]
  },
  {
   "cell_type": "code",
   "execution_count": 14,
   "metadata": {},
   "outputs": [],
   "source": [
    "X.fillna(0, inplace = True)"
   ]
  },
  {
   "cell_type": "code",
   "execution_count": 15,
   "metadata": {},
   "outputs": [],
   "source": [
    "X.replace([np.inf, -np.inf], np.nan, inplace = True)"
   ]
  },
  {
   "cell_type": "code",
   "execution_count": 16,
   "metadata": {},
   "outputs": [],
   "source": [
    "X.fillna(0, inplace = True)"
   ]
  },
  {
   "cell_type": "code",
   "execution_count": 17,
   "metadata": {},
   "outputs": [
    {
     "data": {
      "text/plain": [
       "array([[4.63478256e-02, 1.28556013e-02, 6.76610593e-04, ...,\n",
       "        4.05966356e-03, 0.00000000e+00, 9.89204687e-01],\n",
       "       [9.79435860e-04, 0.00000000e+00, 3.37736503e-05, ...,\n",
       "        4.42434819e-03, 2.54315587e-02, 9.99666276e-01],\n",
       "       [8.95905067e-04, 4.35804668e-03, 1.51848316e-05, ...,\n",
       "        2.00439778e-03, 8.72064881e-02, 9.96155325e-01],\n",
       "       ...,\n",
       "       [5.58170016e-04, 0.00000000e+00, 1.11634003e-05, ...,\n",
       "        1.67451005e-04, 8.24640381e-02, 7.32341387e-01],\n",
       "       [5.48669328e-04, 0.00000000e+00, 5.48669328e-06, ...,\n",
       "        5.21235861e-03, 1.86328104e-02, 1.62400634e-01],\n",
       "       [1.64460830e-03, 7.46510483e-04, 1.99577292e-03, ...,\n",
       "        4.12866002e-03, 2.72247803e-02, 9.99440423e-01]])"
      ]
     },
     "execution_count": 17,
     "metadata": {},
     "output_type": "execute_result"
    }
   ],
   "source": [
    "standardized_X = preprocessing.scale(X)\n",
    "clus_train = preprocessing.normalize(X)\n",
    "clus_train"
   ]
  },
  {
   "cell_type": "code",
   "execution_count": 18,
   "metadata": {},
   "outputs": [
    {
     "data": {
      "text/plain": [
       "array([[4.63478256e-02, 1.28556013e-02, 6.76610593e-04, ...,\n",
       "        4.05966356e-03, 0.00000000e+00, 9.89204687e-01],\n",
       "       [9.79435860e-04, 0.00000000e+00, 3.37736503e-05, ...,\n",
       "        4.42434819e-03, 2.54315587e-02, 9.99666276e-01],\n",
       "       [8.95905067e-04, 4.35804668e-03, 1.51848316e-05, ...,\n",
       "        2.00439778e-03, 8.72064881e-02, 9.96155325e-01],\n",
       "       ...,\n",
       "       [5.58170016e-04, 0.00000000e+00, 1.11634003e-05, ...,\n",
       "        1.67451005e-04, 8.24640381e-02, 7.32341387e-01],\n",
       "       [5.48669328e-04, 0.00000000e+00, 5.48669328e-06, ...,\n",
       "        5.21235861e-03, 1.86328104e-02, 1.62400634e-01],\n",
       "       [1.64460830e-03, 7.46510483e-04, 1.99577292e-03, ...,\n",
       "        4.12866002e-03, 2.72247803e-02, 9.99440423e-01]])"
      ]
     },
     "execution_count": 18,
     "metadata": {},
     "output_type": "execute_result"
    }
   ],
   "source": [
    "clus_train"
   ]
  },
  {
   "cell_type": "code",
   "execution_count": 19,
   "metadata": {},
   "outputs": [],
   "source": [
    "#clus_train = X"
   ]
  },
  {
   "cell_type": "code",
   "execution_count": 20,
   "metadata": {},
   "outputs": [],
   "source": [
    "from scipy.spatial.distance import cdist\n",
    "clusters=range(1,15)\n",
    "meandist=[]\n",
    "\n",
    "for k in clusters:\n",
    "    model=KMeans(n_clusters=k)\n",
    "    model.fit(clus_train)\n",
    "    #Adding average euclidean distance between the model.cluster_centers_, the cluster centroids from the model results, to array.\n",
    "    meandist.append(sum(np.min(cdist(clus_train, model.cluster_centers_, 'euclidean'), axis=1)) \n",
    "    / clus_train.shape[0])"
   ]
  },
  {
   "cell_type": "code",
   "execution_count": 21,
   "metadata": {},
   "outputs": [],
   "source": [
    "import matplotlib.pylab as plt"
   ]
  },
  {
   "cell_type": "code",
   "execution_count": 22,
   "metadata": {},
   "outputs": [
    {
     "data": {
      "text/plain": [
       "Text(0.5, 1.0, 'Выбор k методом Elbow Method')"
      ]
     },
     "execution_count": 22,
     "metadata": {},
     "output_type": "execute_result"
    },
    {
     "name": "stderr",
     "output_type": "stream",
     "text": [
      "/home/renat/anaconda3/lib/python3.7/site-packages/matplotlib/font_manager.py:1241: UserWarning: findfont: Font family ['Verdana'] not found. Falling back to DejaVu Sans.\n",
      "  (prop.get_family(), self.defaultFamily[fontext]))\n"
     ]
    },
    {
     "data": {
      "image/png": "[encoded data removed]",
      "text/plain": [
       "<Figure size 432x288 with 1 Axes>"
      ]
     },
     "metadata": {
      "needs_background": "light"
     },
     "output_type": "display_data"
    }
   ],
   "source": [
    "import matplotlib\n",
    "matplotlib.rc('font', family='Verdana')\n",
    "\n",
    "plt.plot(clusters, meandist)\n",
    "plt.xlabel(u'количество кластеров')\n",
    "plt.ylabel(u'Среднее расстояние - average distance')\n",
    "plt.title(u'Выбор k методом Elbow Method')"
   ]
  },
  {
   "cell_type": "code",
   "execution_count": 23,
   "metadata": {},
   "outputs": [],
   "source": [
    "model5=KMeans(n_clusters=5)\n",
    "model5.fit(clus_train)\n",
    "# plot clusters\n",
    "\n",
    "from sklearn import manifold\n",
    "tsne = manifold.TSNE(n_components = 2, init = 'pca', random_state = 0)\n",
    "plot_columns = tsne.fit_transform(clus_train)"
   ]
  },
  {
   "cell_type": "code",
   "execution_count": 24,
   "metadata": {},
   "outputs": [],
   "source": [
    "from matplotlib.pyplot import figure"
   ]
  },
  {
   "cell_type": "code",
   "execution_count": 25,
   "metadata": {},
   "outputs": [],
   "source": [
    "#Merge pca results with cluster_ids for future reference\n",
    "pca_clusters_tsne5 = pd.DataFrame({'x':plot_columns[:,0],'y':plot_columns[:,1],'cluster':model5.labels_[:]})"
   ]
  },
  {
   "cell_type": "code",
   "execution_count": 29,
   "metadata": {},
   "outputs": [
    {
     "data": {
      "image/png": "[encoded data removed]",
      "text/plain": [
       "<Figure size 432x288 with 1 Axes>"
      ]
     },
     "metadata": {
      "needs_background": "light"
     },
     "output_type": "display_data"
    },
    {
     "data": {
      "image/png": "[encoded data removed]",
      "text/plain": [
       "<Figure size 2400x2400 with 1 Axes>"
      ]
     },
     "metadata": {},
     "output_type": "display_data"
    }
   ],
   "source": [
    "#Adding a legend with labels\n",
    "colors= ['green','orange','brown','dodgerblue','red']\n",
    "#hsv = plt.get_cmap('hsv')\n",
    "#colors = hsv(np.linspace(0, 1.0, 4))\n",
    "\n",
    "\n",
    "#Create empty array of objects to receive plots\n",
    "c = [None] * 5\n",
    "\n",
    "for i in range(0, plot_columns.shape[0]):\n",
    "    c[model5.labels_[i]] =  plt.scatter(x=plot_columns[i,0], y=plot_columns[i,1], c=colors[model5.labels_[i]],label=model5.labels_[i])\n",
    "    \n",
    "import matplotlib\n",
    "\n",
    "figure(num=None, figsize=(30, 30), dpi=80, facecolor='w', edgecolor='k')\n",
    "matplotlib.rc('font', family='Verdana')\n",
    "    \n",
    "plt.xlabel('Canonical variable 1')\n",
    "plt.ylabel('Canonical variable 2')\n",
    "plt.legend(c, ['0','1','2','3','4'],loc='lower center', ncol=4)\n",
    "plt.title(u'График Scatterplot of Canonical Variables для  6 кластеров (TSNE)')\n",
    "plt.show()"
   ]
  },
  {
   "cell_type": "code",
   "execution_count": 30,
   "metadata": {},
   "outputs": [
    {
     "data": {
      "text/plain": [
       "0    60707\n",
       "2    12858\n",
       "1    12001\n",
       "4     9092\n",
       "3     5342\n",
       "Name: cluster, dtype: int64"
      ]
     },
     "execution_count": 30,
     "metadata": {},
     "output_type": "execute_result"
    }
   ],
   "source": [
    "pca_clusters_tsne5.cluster.value_counts()"
   ]
  },
  {
   "cell_type": "code",
   "execution_count": null,
   "metadata": {},
   "outputs": [],
   "source": []
  }
 ],
 "metadata": {
  "kernelspec": {
   "display_name": "Python 3",
   "language": "python",
   "name": "python3"
  },
  "language_info": {
   "codemirror_mode": {
    "name": "ipython",
    "version": 3
   },
   "file_extension": ".py",
   "mimetype": "text/x-python",
   "name": "python",
   "nbconvert_exporter": "python",
   "pygments_lexer": "ipython3",
   "version": "3.7.3"
  }
 },
 "nbformat": 4,
 "nbformat_minor": 2
}
