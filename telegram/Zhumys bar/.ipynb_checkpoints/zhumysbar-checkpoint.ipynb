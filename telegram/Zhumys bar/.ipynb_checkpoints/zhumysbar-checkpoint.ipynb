{
 "cells": [
  {
   "cell_type": "markdown",
   "metadata": {},
   "source": [
    "## Анализ данных с телеграм канала Zhumys bar\n",
    "\n",
    "\n",
    "![](index.jpeg \"\")"
   ]
  },
  {
   "cell_type": "markdown",
   "metadata": {},
   "source": [
    "Источник информации — телеграм канал Zhumys bar (https://t.me/zhumysbar)\n",
    "В данном телеграмм канале публикуются вакансии исключительно для представителей IT индустрии.\n",
    "\n",
    "Инструменты — Python:\n",
    "- telethon - для сбора сообщений с канала в телеграме\n",
    "- gensim - для тематического моделирования\n",
    "- pandas, matplotlib - для анализа табличных данных и визуализации\n",
    "- nltk - токенизация текста, работа со стоп словами"
   ]
  },
  {
   "cell_type": "markdown",
   "metadata": {},
   "source": [
    "## Облака тэгов\n",
    "\n",
    "Наиболее часто встречающиеся слова в описании вакансии:\n",
    "\n",
    "![](wc.png \"\")\n",
    "\n",
    "В описании вакансии наиболее часто повторяющиеся слова - это «данных», «разработка», «тестирование», «bi», чуть реже встречаются слова «java», «python».\n",
    "\n",
    "Данные результат стал возможен после удаления стоп слов и часто встречаемых слов не имеющих отношения к сути вакансии.\n",
    "\n",
    "*все слова переведены в нижний регистр*\n",
    "\n",
    "*города исключены, что бы не вносить много шума в основную картину*"
   ]
  },
  {
   "cell_type": "markdown",
   "metadata": {},
   "source": [
    "## Топ - 10 слов"
   ]
  },
  {
   "cell_type": "markdown",
   "metadata": {},
   "source": [
    "![](top1gram.png \"\")"
   ]
  },
  {
   "cell_type": "markdown",
   "metadata": {},
   "source": [
    "## Топ - 10 пар слов"
   ]
  },
  {
   "cell_type": "markdown",
   "metadata": {},
   "source": [
    "![](top2gram.png \"\")"
   ]
  },
  {
   "cell_type": "markdown",
   "metadata": {},
   "source": [
    "## Топ - 10 троек слов"
   ]
  },
  {
   "cell_type": "markdown",
   "metadata": {},
   "source": [
    "![](top3gram.png \"\")"
   ]
  },
  {
   "cell_type": "markdown",
   "metadata": {},
   "source": [
    "## Динамика постов по месяцам"
   ]
  },
  {
   "cell_type": "markdown",
   "metadata": {},
   "source": [
    "<img src=\"allposts.png\">"
   ]
  },
  {
   "cell_type": "markdown",
   "metadata": {},
   "source": [
    "Динамика с накопление, поэтому видим достаточно быстрый подъем c 01/11/2020"
   ]
  },
  {
   "cell_type": "markdown",
   "metadata": {},
   "source": [
    "## Динамика постов по дням"
   ]
  },
  {
   "cell_type": "markdown",
   "metadata": {},
   "source": [
    "<img src=\"by date.png\">"
   ]
  },
  {
   "cell_type": "markdown",
   "metadata": {},
   "source": [
    "## Динамика постов по часам"
   ]
  },
  {
   "cell_type": "markdown",
   "metadata": {},
   "source": [
    "<img src=\"by hours Moscow.png\">"
   ]
  },
  {
   "cell_type": "markdown",
   "metadata": {},
   "source": [
    "Пики размещения вакансий 8, 9 и 10 утра, а также 15 часов."
   ]
  },
  {
   "cell_type": "markdown",
   "metadata": {},
   "source": [
    "## Динамика просмотров"
   ]
  },
  {
   "cell_type": "markdown",
   "metadata": {},
   "source": [
    "<img src=\"allViews.png\">"
   ]
  },
  {
   "cell_type": "markdown",
   "metadata": {},
   "source": [
    "Судя по графику просмотры достаточно линейно, но точно оценить динамику сложно. Посмотрим по дням."
   ]
  },
  {
   "cell_type": "markdown",
   "metadata": {},
   "source": [
    "## Просмотры по дням"
   ]
  },
  {
   "cell_type": "markdown",
   "metadata": {},
   "source": [
    "<img src=\"views by date.png\">"
   ]
  },
  {
   "cell_type": "markdown",
   "metadata": {},
   "source": [
    "К сожалению данных маловато пока, никакого тренда не заметно."
   ]
  },
  {
   "cell_type": "markdown",
   "metadata": {},
   "source": [
    "## Просмотры по часам"
   ]
  },
  {
   "cell_type": "markdown",
   "metadata": {},
   "source": [
    "<img src=\"Views by hours Moscow.png\">"
   ]
  },
  {
   "cell_type": "markdown",
   "metadata": {},
   "source": [
    "Пики просмотров совпадают с пиковым временем размещения сообщения. Это говорит о том, что подписчики сразу после публикации смотрят пост."
   ]
  },
  {
   "cell_type": "markdown",
   "metadata": {},
   "source": [
    "## Тематическое моделирования"
   ]
  },
  {
   "cell_type": "markdown",
   "metadata": {},
   "source": [
    "Построив Латентное размещение Дирихле (LDA) можно увидеть выделение 5 групп, которые я сгруппировал следующим образом: 'тестирование/QA', 'Data Analytic/ Data Scientist', 'Mobile Dev', 'Enterprise', 'Разработчик БД'.\n",
    "\n",
    "| Тема | Наиболее часто встречающиеся слова (10 слов) | \n",
    "| --- | --- |\n",
    "| **0 topic : тестирование/QA** | тестирования, анализ, qa, систем, приложений, банка, актуализация, продуктов, зп, пользователей | \n",
    "| **1 topic : Data Analytic/ Data Scientist** | данных, bi, data, аналитических, предиктивных, моделей, отчетность, sql, big, системы |\n",
    "| **2 topic : Mobile Dev** | android, разработчик, 500, развитие, almanit, руки, java, bank, api, функционала |\n",
    "| **3 topic : Enterprise** |  бизнес, spring, программного, обеспечения, java, работа, использования, техническое, лет, docker |\n",
    "| **4 topic : Разработчик БД** | данных, сервис, разработчик, базами, документации, написание, sql, data, docker, golang |"
   ]
  },
  {
   "cell_type": "markdown",
   "metadata": {},
   "source": [
    "## Распределние тем по неделям"
   ]
  },
  {
   "cell_type": "markdown",
   "metadata": {},
   "source": [
    "![](tm.png \"\")"
   ]
  },
  {
   "cell_type": "markdown",
   "metadata": {},
   "source": [
    "Сложно трактовать график, очень много цветом даётся смешением разных. "
   ]
  },
  {
   "cell_type": "code",
   "execution_count": null,
   "metadata": {},
   "outputs": [],
   "source": []
  }
 ],
 "metadata": {
  "kernelspec": {
   "display_name": "Python 3",
   "language": "python",
   "name": "python3"
  },
  "language_info": {
   "codemirror_mode": {
    "name": "ipython",
    "version": 3
   },
   "file_extension": ".py",
   "mimetype": "text/x-python",
   "name": "python",
   "nbconvert_exporter": "python",
   "pygments_lexer": "ipython3",
   "version": "3.7.3"
  }
 },
 "nbformat": 4,
 "nbformat_minor": 2
}
