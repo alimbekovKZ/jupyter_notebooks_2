{
 "cells": [
  {
   "cell_type": "code",
   "execution_count": 1,
   "metadata": {
    "collapsed": true
   },
   "outputs": [],
   "source": [
    "from IPython.core.display import display, HTML\n",
    "display(HTML(\"<style>.container { width:90% !important; }</style>\"))\n",
    "\n",
    "from telethon import TelegramClient, events, sync\n",
    "from telethon.tl.types import PeerUser, PeerChat, PeerChannel\n",
    "\n",
    "import pandas as pd\n",
    "import numpy as np\n",
    "\n",
    "from collections import Counter\n",
    "import time"
   ]
  },
  {
   "cell_type": "code",
   "execution_count": 21,
   "metadata": {
    "collapsed": true
   },
   "outputs": [],
   "source": [
    "import configparser\n",
    "import json\n",
    "from datetime import date, datetime\n",
    "\n",
    "from telethon import TelegramClient\n",
    "from telethon.errors import SessionPasswordNeededError\n",
    "from telethon.tl.functions.messages import (GetHistoryRequest)\n",
    "from telethon.tl.types import (\n",
    "    PeerChannel\n",
    ")"
   ]
  },
  {
   "cell_type": "code",
   "execution_count": 2,
   "metadata": {
    "collapsed": true
   },
   "outputs": [],
   "source": [
    "api_id = YOUR_API_ID\n",
    "api_hash = YOUR_API_HASH\n",
    "phone = YOUR_PHONE"
   ]
  },
  {
   "cell_type": "code",
   "execution_count": 3,
   "metadata": {
    "collapsed": true
   },
   "outputs": [],
   "source": [
    "chat = \"https://t.me/remotelist\""
   ]
  },
  {
   "cell_type": "code",
   "execution_count": 4,
   "metadata": {
    "collapsed": true
   },
   "outputs": [],
   "source": [
    "client = TelegramClient('test', api_id, api_hash)"
   ]
  },
  {
   "cell_type": "code",
   "execution_count": 5,
   "metadata": {},
   "outputs": [
    {
     "name": "stdin",
     "output_type": "stream",
     "text": [
      "Please enter your phone (or bot token):  +77014388289\n",
      "Please enter the code you received:  48109\n"
     ]
    },
    {
     "name": "stdout",
     "output_type": "stream",
     "text": [
      "Signed in successfully as Renat Alimbekov\n"
     ]
    },
    {
     "ename": "RuntimeError",
     "evalue": "This event loop is already running",
     "output_type": "error",
     "traceback": [
      "\u001b[0;31m---------------------------------------------------------------------------\u001b[0m",
      "\u001b[0;31mRuntimeError\u001b[0m                              Traceback (most recent call last)",
      "\u001b[0;32m<ipython-input-5-1f0c95345505>\u001b[0m in \u001b[0;36masync-def-wrapper\u001b[0;34m()\u001b[0m\n",
      "\u001b[0;32m~/anaconda3/lib/python3.7/asyncio/base_events.py\u001b[0m in \u001b[0;36mrun_until_complete\u001b[0;34m(self, future)\u001b[0m\n\u001b[1;32m    569\u001b[0m         \u001b[0mfuture\u001b[0m\u001b[0;34m.\u001b[0m\u001b[0madd_done_callback\u001b[0m\u001b[0;34m(\u001b[0m\u001b[0m_run_until_complete_cb\u001b[0m\u001b[0;34m)\u001b[0m\u001b[0;34m\u001b[0m\u001b[0;34m\u001b[0m\u001b[0m\n\u001b[1;32m    570\u001b[0m         \u001b[0;32mtry\u001b[0m\u001b[0;34m:\u001b[0m\u001b[0;34m\u001b[0m\u001b[0;34m\u001b[0m\u001b[0m\n\u001b[0;32m--> 571\u001b[0;31m             \u001b[0mself\u001b[0m\u001b[0;34m.\u001b[0m\u001b[0mrun_forever\u001b[0m\u001b[0;34m(\u001b[0m\u001b[0;34m)\u001b[0m\u001b[0;34m\u001b[0m\u001b[0;34m\u001b[0m\u001b[0m\n\u001b[0m\u001b[1;32m    572\u001b[0m         \u001b[0;32mexcept\u001b[0m\u001b[0;34m:\u001b[0m\u001b[0;34m\u001b[0m\u001b[0;34m\u001b[0m\u001b[0m\n\u001b[1;32m    573\u001b[0m             \u001b[0;32mif\u001b[0m \u001b[0mnew_task\u001b[0m \u001b[0;32mand\u001b[0m \u001b[0mfuture\u001b[0m\u001b[0;34m.\u001b[0m\u001b[0mdone\u001b[0m\u001b[0;34m(\u001b[0m\u001b[0;34m)\u001b[0m \u001b[0;32mand\u001b[0m \u001b[0;32mnot\u001b[0m \u001b[0mfuture\u001b[0m\u001b[0;34m.\u001b[0m\u001b[0mcancelled\u001b[0m\u001b[0;34m(\u001b[0m\u001b[0;34m)\u001b[0m\u001b[0;34m:\u001b[0m\u001b[0;34m\u001b[0m\u001b[0;34m\u001b[0m\u001b[0m\n",
      "\u001b[0;32m~/anaconda3/lib/python3.7/asyncio/base_events.py\u001b[0m in \u001b[0;36mrun_forever\u001b[0;34m(self)\u001b[0m\n\u001b[1;32m    524\u001b[0m         \u001b[0mself\u001b[0m\u001b[0;34m.\u001b[0m\u001b[0m_check_closed\u001b[0m\u001b[0;34m(\u001b[0m\u001b[0;34m)\u001b[0m\u001b[0;34m\u001b[0m\u001b[0;34m\u001b[0m\u001b[0m\n\u001b[1;32m    525\u001b[0m         \u001b[0;32mif\u001b[0m \u001b[0mself\u001b[0m\u001b[0;34m.\u001b[0m\u001b[0mis_running\u001b[0m\u001b[0;34m(\u001b[0m\u001b[0;34m)\u001b[0m\u001b[0;34m:\u001b[0m\u001b[0;34m\u001b[0m\u001b[0;34m\u001b[0m\u001b[0m\n\u001b[0;32m--> 526\u001b[0;31m             \u001b[0;32mraise\u001b[0m \u001b[0mRuntimeError\u001b[0m\u001b[0;34m(\u001b[0m\u001b[0;34m'This event loop is already running'\u001b[0m\u001b[0;34m)\u001b[0m\u001b[0;34m\u001b[0m\u001b[0;34m\u001b[0m\u001b[0m\n\u001b[0m\u001b[1;32m    527\u001b[0m         \u001b[0;32mif\u001b[0m \u001b[0mevents\u001b[0m\u001b[0;34m.\u001b[0m\u001b[0m_get_running_loop\u001b[0m\u001b[0;34m(\u001b[0m\u001b[0;34m)\u001b[0m \u001b[0;32mis\u001b[0m \u001b[0;32mnot\u001b[0m \u001b[0;32mNone\u001b[0m\u001b[0;34m:\u001b[0m\u001b[0;34m\u001b[0m\u001b[0;34m\u001b[0m\u001b[0m\n\u001b[1;32m    528\u001b[0m             raise RuntimeError(\n",
      "\u001b[0;31mRuntimeError\u001b[0m: This event loop is already running"
     ]
    }
   ],
   "source": [
    "async def main():\n",
    "    # Now you can use all client methods listed below, like for example...\n",
    "    await client.send_message('me', 'Hello to myself!')\n",
    "\n",
    "async with client:\n",
    "    client.loop.run_until_complete(main())"
   ]
  },
  {
   "cell_type": "code",
   "execution_count": 6,
   "metadata": {
    "collapsed": true
   },
   "outputs": [],
   "source": [
    "try:\n",
    "    await client.connect()\n",
    "except OSError:\n",
    "    print('Failed to connect')"
   ]
  },
  {
   "cell_type": "code",
   "execution_count": 10,
   "metadata": {},
   "outputs": [
    {
     "data": {
      "text/plain": [
       "True"
      ]
     },
     "execution_count": 10,
     "metadata": {},
     "output_type": "execute_result"
    }
   ],
   "source": [
    "client.is_connected()"
   ]
  },
  {
   "cell_type": "code",
   "execution_count": 13,
   "metadata": {
    "collapsed": true
   },
   "outputs": [],
   "source": [
    "#async for dialog in client.iter_dialogs():\n",
    "#    print(dialog.title)"
   ]
  },
  {
   "cell_type": "code",
   "execution_count": 14,
   "metadata": {},
   "outputs": [
    {
     "name": "stdout",
     "output_type": "stream",
     "text": [
      "<coroutine object UserMethods.get_entity at 0x7f6787120d48>\n"
     ]
    }
   ],
   "source": [
    "messages = client.get_entity('Remotelist')\n",
    "print(messages)"
   ]
  },
  {
   "cell_type": "code",
   "execution_count": 17,
   "metadata": {
    "collapsed": true
   },
   "outputs": [],
   "source": [
    "chat_id='Remotelist'"
   ]
  },
  {
   "cell_type": "code",
   "execution_count": 23,
   "metadata": {
    "collapsed": true
   },
   "outputs": [],
   "source": [
    "my_channel = client.get_entity(chat_id)"
   ]
  },
  {
   "cell_type": "code",
   "execution_count": 51,
   "metadata": {
    "collapsed": true
   },
   "outputs": [],
   "source": [
    "work_messages = []"
   ]
  },
  {
   "cell_type": "raw",
   "metadata": {},
   "source": [
    "Message(\n",
    "id=5547,\n",
    "to_id=PeerChannel(channel_id=1264479651), \n",
    "date=datetime.datetime(2019, 10, 15, 5, 16, 34, tzinfo=datetime.timezone.utc),\n",
    "message='Новые вакансии на remotelist.ru\\n\\n—  Software Engineer  в компанию Theorem https://remotelist.ru/i/79083/\\n\\n—  Product Manager  в компанию Cro Metrics https://remotelist.ru/i/79082/\\n\\n— Full-stack Java Developer в компанию Climber Revenue Strategies https://remotelist.ru/i/79081/',\n",
    "out=False,\n",
    "mentioned=False,\n",
    "media_unread=False,\n",
    "silent=False,\n",
    "post=True,\n",
    "from_scheduled=False,\n",
    "legacy=False,\n",
    "edit_hide=False,\n",
    "from_id=None,\n",
    "fwd_from=None,\n",
    "via_bot_id=None,\n",
    "reply_to_msg_id=None,\n",
    "media=MessageMediaWebPage(webpage=WebPage(id=8415375985079209915, url='https://remotelist.ru/i/79083/', display_url='remotelist.ru/remote-job-software-engineer-79083', hash=0, type='article', site_name='remotelist.ru', title='Вакансия  Software Engineer  в компанию Theorem — удалённая работа на Remotelist', description='Компания Theorem ищет специалиста  Software Engineer  удалённо. Требуемые навыки Build, Systems, Data.', photo=None, embed_url=None, embed_type=None, embed_width=None, embed_height=None, duration=None, author=None, document=None, documents=[], cached_page=None)),\n",
    "reply_markup=None, entities=[MessageEntityUrl(offset=18, length=13),\n",
    "MessageEntityUrl(offset=74, length=30), \n",
    "MessageEntityUrl(offset=149, length=30),\n",
    "MessageEntityUrl(offset=247, length=30)], \n",
    "views=26,\n",
    "edit_date=None, \n",
    "post_author=None,\n",
    "grouped_id=None, \n",
    "restriction_reason=[])"
   ]
  },
  {
   "cell_type": "code",
   "execution_count": 52,
   "metadata": {
    "collapsed": true
   },
   "outputs": [],
   "source": [
    "async for message in client.iter_messages(chat_id):\n",
    "    work_messages.append(message)"
   ]
  },
  {
   "cell_type": "code",
   "execution_count": 107,
   "metadata": {},
   "outputs": [
    {
     "data": {
      "text/plain": [
       "5496"
      ]
     },
     "execution_count": 107,
     "metadata": {},
     "output_type": "execute_result"
    }
   ],
   "source": [
    "len(work_messages)"
   ]
  },
  {
   "cell_type": "code",
   "execution_count": 131,
   "metadata": {
    "collapsed": true
   },
   "outputs": [],
   "source": [
    "ids = []\n",
    "message = []\n",
    "mes_date = []\n",
    "view = []\n",
    "mes_title = []\n",
    "mes_description = []"
   ]
  },
  {
   "cell_type": "code",
   "execution_count": 132,
   "metadata": {
    "collapsed": true
   },
   "outputs": [],
   "source": [
    "for mes in work_messages:\n",
    "    try:\n",
    "        ids.append(mes.id)\n",
    "        message.append(mes.message)\n",
    "        mes_date.append(mes.date)\n",
    "        view.append(mes.views)\n",
    "        mes_title.append(mes.media.webpage.title)\n",
    "        mes_description.append(mes.media.webpage.description)\n",
    "    except:\n",
    "        #message.append('')\n",
    "        #mes_date.append('')\n",
    "        #view.append(0)\n",
    "        mes_title.append('None')\n",
    "        mes_description.append('None')"
   ]
  },
  {
   "cell_type": "code",
   "execution_count": 133,
   "metadata": {},
   "outputs": [
    {
     "name": "stdout",
     "output_type": "stream",
     "text": [
      "5496 5496 5496 5496 5496 5496\n"
     ]
    }
   ],
   "source": [
    "print(len(ids), len(message), len(mes_date), len(view), len(mes_title), len(mes_description))"
   ]
  },
  {
   "cell_type": "code",
   "execution_count": 137,
   "metadata": {
    "collapsed": true
   },
   "outputs": [],
   "source": [
    "corpus = pd.DataFrame(data = {\n",
    "    'id': ids,\n",
    "    'text': message, #[mes.message for mes in work_messages],\n",
    "    'mes_date': mes_date, #[mes.date for mes in work_messages],\n",
    "    'views': view, #[mes.views for mes in work_messages],\n",
    "    'mes_title': mes_title, #[mes.media.webpage.title for mes in work_messages],\n",
    "    'mes_description': mes_description, #[mes.media.webpage.description for mes in work_messages],\n",
    "})"
   ]
  },
  {
   "cell_type": "code",
   "execution_count": 138,
   "metadata": {},
   "outputs": [
    {
     "data": {
      "text/plain": [
       "(5496, 6)"
      ]
     },
     "execution_count": 138,
     "metadata": {},
     "output_type": "execute_result"
    }
   ],
   "source": [
    "corpus.shape"
   ]
  },
  {
   "cell_type": "code",
   "execution_count": 139,
   "metadata": {},
   "outputs": [
    {
     "data": {
      "text/html": [
       "<div>\n",
       "<style scoped>\n",
       "    .dataframe tbody tr th:only-of-type {\n",
       "        vertical-align: middle;\n",
       "    }\n",
       "\n",
       "    .dataframe tbody tr th {\n",
       "        vertical-align: top;\n",
       "    }\n",
       "\n",
       "    .dataframe thead th {\n",
       "        text-align: right;\n",
       "    }\n",
       "</style>\n",
       "<table border=\"1\" class=\"dataframe\">\n",
       "  <thead>\n",
       "    <tr style=\"text-align: right;\">\n",
       "      <th></th>\n",
       "      <th>id</th>\n",
       "      <th>text</th>\n",
       "      <th>mes_date</th>\n",
       "      <th>views</th>\n",
       "      <th>mes_title</th>\n",
       "      <th>mes_description</th>\n",
       "    </tr>\n",
       "  </thead>\n",
       "  <tbody>\n",
       "    <tr>\n",
       "      <th>0</th>\n",
       "      <td>5547</td>\n",
       "      <td>Новые вакансии на remotelist.ru\\n\\n—  Software...</td>\n",
       "      <td>2019-10-15 05:16:34+00:00</td>\n",
       "      <td>26.0</td>\n",
       "      <td>Вакансия  Software Engineer  в компанию Theore...</td>\n",
       "      <td>Компания Theorem ищет специалиста  Software En...</td>\n",
       "    </tr>\n",
       "    <tr>\n",
       "      <th>1</th>\n",
       "      <td>5546</td>\n",
       "      <td>Новые вакансии на remotelist.ru\\n\\n— UI/UX про...</td>\n",
       "      <td>2019-10-15 03:16:29+00:00</td>\n",
       "      <td>61.0</td>\n",
       "      <td>Вакансия UI/UX продуктовый дизайнер в компанию...</td>\n",
       "      <td>Компания Solves.pro ищет специалиста UI/UX про...</td>\n",
       "    </tr>\n",
       "  </tbody>\n",
       "</table>\n",
       "</div>"
      ],
      "text/plain": [
       "     id                                               text  \\\n",
       "0  5547  Новые вакансии на remotelist.ru\\n\\n—  Software...   \n",
       "1  5546  Новые вакансии на remotelist.ru\\n\\n— UI/UX про...   \n",
       "\n",
       "                   mes_date  views  \\\n",
       "0 2019-10-15 05:16:34+00:00   26.0   \n",
       "1 2019-10-15 03:16:29+00:00   61.0   \n",
       "\n",
       "                                           mes_title  \\\n",
       "0  Вакансия  Software Engineer  в компанию Theore...   \n",
       "1  Вакансия UI/UX продуктовый дизайнер в компанию...   \n",
       "\n",
       "                                     mes_description  \n",
       "0  Компания Theorem ищет специалиста  Software En...  \n",
       "1  Компания Solves.pro ищет специалиста UI/UX про...  "
      ]
     },
     "execution_count": 139,
     "metadata": {},
     "output_type": "execute_result"
    }
   ],
   "source": [
    "corpus.head(2)"
   ]
  },
  {
   "cell_type": "code",
   "execution_count": 141,
   "metadata": {
    "collapsed": true
   },
   "outputs": [],
   "source": [
    "corpus.to_csv('remotelist.csv', index = False)"
   ]
  },
  {
   "cell_type": "code",
   "execution_count": null,
   "metadata": {
    "collapsed": true
   },
   "outputs": [],
   "source": []
  }
 ],
 "metadata": {
  "kernelspec": {
   "display_name": "Python 3",
   "language": "python",
   "name": "python3"
  },
  "language_info": {
   "codemirror_mode": {
    "name": "ipython",
    "version": 3
   },
   "file_extension": ".py",
   "mimetype": "text/x-python",
   "name": "python",
   "nbconvert_exporter": "python",
   "pygments_lexer": "ipython3",
   "version": "3.6.2"
  }
 },
 "nbformat": 4,
 "nbformat_minor": 2
}
