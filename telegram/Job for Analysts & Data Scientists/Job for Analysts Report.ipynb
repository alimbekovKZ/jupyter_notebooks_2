{
 "cells": [
  {
   "cell_type": "markdown",
   "metadata": {},
   "source": [
    "## Анализ данных с телеграм канала Job for Analysts & Data Scientists\n",
    "\n",
    "<img src=\"index.jpeg\" style=\"height:200px; width:200px;\">"
   ]
  },
  {
   "cell_type": "markdown",
   "metadata": {},
   "source": [
    "Источник информации — телеграм канал Job for Analysts & Data Scientists (https://t.me/foranalysts)\n",
    "Вакансии для Digital-аналитиков и Data scientists.Канал создан рекрутинговым агентством New.HR\n",
    "\n",
    "Инструменты — Python:\n",
    "- telethon - для сбора сообщений с канала в телеграме\n",
    "- gensim - для тематического моделирования\n",
    "- pandas, matplotlib - для анализа табличных данных и визуализации\n",
    "- nltk - токенизация текста, работа со стоп словами"
   ]
  },
  {
   "cell_type": "markdown",
   "metadata": {},
   "source": [
    "## Облака тэгов\n",
    "\n",
    "Наиболее часто встречающиеся слова в описании вакансии:\n",
    "\n",
    "<img src=\"word cloud.png\" style=\"height:600px; width:600px;\">\n",
    "\n",
    "В описании вакансии наиболее часто повторяющиеся слова - это «data scientis», «аналитик», «analyst», «удаленная работа», чуть реже встречаются слова «системный», «продуктувый» аналитик.\n",
    "\n",
    "Данные результат стал возможен после удаления стоп слов и часто встречаемых слов не имеющих отношения к сути вакансии: 'вакансия','москва','что', 'это', 'так', 'вот', 'быть', 'как', 'в', '—', 'к', 'на', 'за', 'было','требуемые','навыки','ищет', 'удалённо', 'специалиста', 'компания', 'откликаться', 'geekjob','описание','вакансии','ru','её','пост','санкт-петербург', 'санкт петербург','минск','личку','санкт', 'петербург', 'санктпетербург','оксана','прутьянова','подробнее'.\n",
    "\n",
    "*все слова переведены в нижний регистр*\n",
    "\n",
    "*города исключены, что бы не вносить много шума в основную картину*"
   ]
  },
  {
   "cell_type": "markdown",
   "metadata": {},
   "source": [
    "## Топ - 10 слов"
   ]
  },
  {
   "cell_type": "markdown",
   "metadata": {},
   "source": [
    "<img src=\"1-top10.png\" style=\"height:518px; width:600px;\">"
   ]
  },
  {
   "cell_type": "markdown",
   "metadata": {},
   "source": [
    "## Топ - 10 пар слов"
   ]
  },
  {
   "cell_type": "markdown",
   "metadata": {},
   "source": [
    "<img src=\"2-top10.png\" style=\"height:593px; width:600px;\">"
   ]
  },
  {
   "cell_type": "markdown",
   "metadata": {},
   "source": [
    "## Топ - 10 троек слов"
   ]
  },
  {
   "cell_type": "markdown",
   "metadata": {},
   "source": [
    "<img src=\"3-top10.png\" style=\"height:712px; width:600px;\">"
   ]
  },
  {
   "cell_type": "markdown",
   "metadata": {},
   "source": [
    "## Динамика постов по месяцам"
   ]
  },
  {
   "cell_type": "markdown",
   "metadata": {},
   "source": [
    "<img src=\"allposts.png\">"
   ]
  },
  {
   "cell_type": "markdown",
   "metadata": {},
   "source": [
    "Динамика с накопление, поэтому видим достаточно быстрый подъем c 07/2018 и быстрое увелечение количесва ~ в 6 раз"
   ]
  },
  {
   "cell_type": "markdown",
   "metadata": {},
   "source": [
    "## Динамика постов по дням"
   ]
  },
  {
   "cell_type": "markdown",
   "metadata": {},
   "source": [
    "<img src=\"by date.png\">"
   ]
  },
  {
   "cell_type": "markdown",
   "metadata": {},
   "source": [
    "## Динамика постов по часам"
   ]
  },
  {
   "cell_type": "markdown",
   "metadata": {},
   "source": [
    "<img src=\"by hours Moscow.png\">"
   ]
  },
  {
   "cell_type": "markdown",
   "metadata": {},
   "source": [
    "Пики размещения вакансий 11 утра, 15 и 17 часов."
   ]
  },
  {
   "cell_type": "markdown",
   "metadata": {},
   "source": [
    "## Динамика просмотров"
   ]
  },
  {
   "cell_type": "markdown",
   "metadata": {},
   "source": [
    "<img src=\"allViews.png\">"
   ]
  },
  {
   "cell_type": "markdown",
   "metadata": {},
   "source": [
    "Судя по графику просмотры достаточно линейно, но точно оценить динамику сложно. Посмотрим по дням."
   ]
  },
  {
   "cell_type": "markdown",
   "metadata": {},
   "source": [
    "## Просмотры по дням"
   ]
  },
  {
   "cell_type": "markdown",
   "metadata": {},
   "source": [
    "<img src=\"views by date.png\">"
   ]
  },
  {
   "cell_type": "markdown",
   "metadata": {},
   "source": [
    "Уже более отчетливо прослеживается тренд, хотя рост не слишком большой и явно замедлился после 07/2019"
   ]
  },
  {
   "cell_type": "markdown",
   "metadata": {},
   "source": [
    "## Просмотры по часам"
   ]
  },
  {
   "cell_type": "markdown",
   "metadata": {},
   "source": [
    "<img src=\"Views by hours Moscow.png\">"
   ]
  },
  {
   "cell_type": "markdown",
   "metadata": {},
   "source": [
    "Пики просмотров совпадают с пиковым временем размещения сообщения. Это говорит о том, что подписчики сразу после публикации смотрят пост."
   ]
  },
  {
   "cell_type": "markdown",
   "metadata": {},
   "source": [
    "## Тематическое моделирования"
   ]
  },
  {
   "cell_type": "markdown",
   "metadata": {},
   "source": [
    "Построив Латентное размещение Дирихле (LDA) можно увидеть выделение 5 групп, которые я сгруппировал следующим образом: 'data scientist', 'руководители', 'system analyst', 'диджитал', 'product analyst'.\n",
    "\n",
    "| Тема | Наиболее часто встречающиеся слова (14 слов) | \n",
    "| --- | --- |\n",
    "| **0 topic : data scientist** | data, scientist, datascientist, senior, сервис, россии, ml, science, онлайн, компании, откликнуться, крупнейший, проект, relocation | \n",
    "| **1 topic : руководители** | аналитики, headofanalytics, руководитель, банк, сервис, рынка, analytics, услуг, российский, отдела, данных, задачи, проект, head |\n",
    "| **2 topic : system analyst** | системный, systemsanalyst, бизнес, web, webanalyst, businessanalyst, агентство, интернет, веб, почту, решений, digital, разработчик, области |\n",
    "| **3 topic : диджитал** | компаний, компании, яндекс, сайте, аналитиков, диджитал, hr, new, ит, вакансий, mail, marketinganalyst, сервис, group|\n",
    "| **4 topic : product analyst** | productanalyst, product, remotework, работа, мобильных, junior, удалённая, продуктовый, gamedev, data, разработчик, онлайн, engineer, игр |"
   ]
  },
  {
   "cell_type": "markdown",
   "metadata": {},
   "source": [
    "## Распределние тем по неделям"
   ]
  },
  {
   "cell_type": "markdown",
   "metadata": {},
   "source": [
    "<img src=\"topic_week.png\">"
   ]
  },
  {
   "cell_type": "markdown",
   "metadata": {},
   "source": [
    "Интересный момент, в самом начале было много вакансия системных аналитиков, а потом доли по тематикам стали стабилизироваться"
   ]
  }
 ],
 "metadata": {
  "kernelspec": {
   "display_name": "Python 3",
   "language": "python",
   "name": "python3"
  },
  "language_info": {
   "codemirror_mode": {
    "name": "ipython",
    "version": 3
   },
   "file_extension": ".py",
   "mimetype": "text/x-python",
   "name": "python",
   "nbconvert_exporter": "python",
   "pygments_lexer": "ipython3",
   "version": "3.6.2"
  }
 },
 "nbformat": 4,
 "nbformat_minor": 2
}
