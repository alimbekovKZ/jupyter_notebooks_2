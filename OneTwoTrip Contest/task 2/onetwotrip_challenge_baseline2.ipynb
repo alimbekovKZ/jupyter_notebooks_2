{
 "cells": [
  {
   "cell_type": "code",
   "execution_count": 1,
   "metadata": {},
   "outputs": [],
   "source": [
    "import pandas as pd\n",
    "from sklearn.metrics import roc_auc_score\n",
    "from sklearn.model_selection import StratifiedKFold\n",
    "import numpy as np\n",
    "%matplotlib inline"
   ]
  },
  {
   "cell_type": "code",
   "execution_count": 2,
   "metadata": {},
   "outputs": [],
   "source": [
    "from catboost import CatBoostClassifier"
   ]
  },
  {
   "cell_type": "code",
   "execution_count": 3,
   "metadata": {},
   "outputs": [],
   "source": [
    "df_train = pd.read_csv('onetwotrip_challenge_train.csv')\n",
    "df_test = pd.read_csv('onetwotrip_challenge_test.csv')"
   ]
  },
  {
   "cell_type": "code",
   "execution_count": 4,
   "metadata": {},
   "outputs": [],
   "source": [
    "# features for training\n",
    "features = list(filter(lambda x: 'field' in x, df_train.columns))"
   ]
  },
  {
   "cell_type": "code",
   "execution_count": 5,
   "metadata": {},
   "outputs": [
    {
     "data": {
      "text/plain": [
       "['field0',\n",
       " 'field1',\n",
       " 'field2',\n",
       " 'field3',\n",
       " 'field4',\n",
       " 'field5',\n",
       " 'field6',\n",
       " 'field7',\n",
       " 'field8',\n",
       " 'field9',\n",
       " 'field10',\n",
       " 'field11',\n",
       " 'field12',\n",
       " 'field13',\n",
       " 'field14',\n",
       " 'field15',\n",
       " 'field16',\n",
       " 'field17',\n",
       " 'field18',\n",
       " 'field19',\n",
       " 'field20',\n",
       " 'field21',\n",
       " 'field22',\n",
       " 'field23',\n",
       " 'field24',\n",
       " 'field25',\n",
       " 'field26',\n",
       " 'field27',\n",
       " 'field28',\n",
       " 'field29']"
      ]
     },
     "execution_count": 5,
     "metadata": {},
     "output_type": "execute_result"
    }
   ],
   "source": [
    "features"
   ]
  },
  {
   "cell_type": "code",
   "execution_count": 6,
   "metadata": {},
   "outputs": [],
   "source": [
    "goals = list(filter(lambda x: 'goal' in x and 'indicator' not in x, df_train.columns))[:-1]"
   ]
  },
  {
   "cell_type": "code",
   "execution_count": 7,
   "metadata": {},
   "outputs": [],
   "source": [
    "kf = StratifiedKFold(n_splits=5, random_state=0)"
   ]
  },
  {
   "cell_type": "code",
   "execution_count": 8,
   "metadata": {},
   "outputs": [],
   "source": [
    "clfs = [CatBoostClassifier(logging_level='Silent', random_state=0) for goal in goals]"
   ]
  },
  {
   "cell_type": "code",
   "execution_count": 9,
   "metadata": {},
   "outputs": [],
   "source": [
    "def train_clfs(X, goals, clfs):\n",
    "    for idx in range(goals.shape[1]):\n",
    "        y = goals.iloc[:, idx]\n",
    "        clfs[idx].fit(X, y)\n",
    "    return clfs\n",
    "\n",
    "def predict_goals_proba(X, clfs, goals_cols):\n",
    "    res = pd.DataFrame([], columns=goals_cols)\n",
    "    for i, clf in enumerate(clfs):\n",
    "        res[goals_cols[i]] = clf.predict_proba(X)[:, 1]\n",
    "    return pd.DataFrame(res, columns=goals_cols)\n",
    "\n",
    "def score_probas(goals_probas, goals_true):\n",
    "    scores = []\n",
    "    for goal in goals_probas.columns:\n",
    "        scores.append(roc_auc_score(goals_true[goal], goals_probas[goal]))\n",
    "    return np.mean(scores)"
   ]
  },
  {
   "cell_type": "code",
   "execution_count": 10,
   "metadata": {},
   "outputs": [],
   "source": [
    "Y = (df_train[goals] == 1).any(axis=1)*1"
   ]
  },
  {
   "cell_type": "code",
   "execution_count": 11,
   "metadata": {
    "scrolled": true
   },
   "outputs": [
    {
     "name": "stdout",
     "output_type": "stream",
     "text": [
      "Score 0.8023737503929688 ± 0.0020414703790985794\n"
     ]
    }
   ],
   "source": [
    "# cross validation\n",
    "scores = []\n",
    "for train_idx, test_idx in kf.split(df_train[features], Y):\n",
    "    tmp_train, tmp_test = df_train.loc[train_idx], df_train.loc[test_idx]\n",
    "    train_clfs(tmp_train[features], tmp_train[goals], clfs)\n",
    "    probas = predict_goals_proba(tmp_test[features], clfs, goals)\n",
    "    scores += [score_probas(probas, tmp_test[goals])]\n",
    "print(f\"Score {np.mean(scores)} ± {np.std(scores)}\")"
   ]
  },
  {
   "cell_type": "code",
   "execution_count": null,
   "metadata": {},
   "outputs": [],
   "source": [
    "# fit classifier on the whole dataset\n",
    "train_clfs(df_train[features], df_train[goals], clfs)"
   ]
  },
  {
   "cell_type": "code",
   "execution_count": null,
   "metadata": {
    "scrolled": true
   },
   "outputs": [],
   "source": [
    "# get probabilities\n",
    "probas = predict_goals_proba(df_test[features], clfs, goals)"
   ]
  },
  {
   "cell_type": "code",
   "execution_count": null,
   "metadata": {},
   "outputs": [],
   "source": [
    "probas.to_csv('sub2.csv')"
   ]
  },
  {
   "cell_type": "code",
   "execution_count": null,
   "metadata": {},
   "outputs": [],
   "source": []
  }
 ],
 "metadata": {
  "kernelspec": {
   "display_name": "Python 3",
   "language": "python",
   "name": "python3"
  },
  "language_info": {
   "codemirror_mode": {
    "name": "ipython",
    "version": 3
   },
   "file_extension": ".py",
   "mimetype": "text/x-python",
   "name": "python",
   "nbconvert_exporter": "python",
   "pygments_lexer": "ipython3",
   "version": "3.7.3"
  }
 },
 "nbformat": 4,
 "nbformat_minor": 2
}
