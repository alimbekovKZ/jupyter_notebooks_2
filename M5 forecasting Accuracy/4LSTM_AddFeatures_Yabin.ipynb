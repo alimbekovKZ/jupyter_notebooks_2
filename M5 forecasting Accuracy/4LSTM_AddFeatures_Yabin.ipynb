{
 "cells": [
  {
   "cell_type": "markdown",
   "metadata": {
    "colab_type": "text",
    "id": "view-in-github"
   },
   "source": [
    "<a href=\"https://colab.research.google.com/github/Yabin10/M5-Forecasting-Accuracy-Uncertainty/blob/master/keras_lstm2.ipynb\" target=\"_parent\"><img src=\"https://colab.research.google.com/assets/colab-badge.svg\" alt=\"Open In Colab\"/></a>"
   ]
  },
  {
   "cell_type": "code",
   "execution_count": 3,
   "metadata": {
    "colab": {},
    "colab_type": "code",
    "id": "Yb5eSAY7NO71"
   },
   "outputs": [
    {
     "name": "stderr",
     "output_type": "stream",
     "text": [
      "Using TensorFlow backend.\n"
     ]
    }
   ],
   "source": [
    "import numpy as np\n",
    "import pandas as pd\n",
    "import warnings\n",
    "warnings.filterwarnings(\"ignore\")\n",
    "from sklearn.preprocessing import MinMaxScaler\n",
    "from keras.models import Sequential\n",
    "from keras.layers import Dense, LSTM, Dropout\n",
    "import os, random"
   ]
  },
  {
   "cell_type": "code",
   "execution_count": 2,
   "metadata": {
    "colab": {
     "base_uri": "https://localhost:8080/",
     "height": 68
    },
    "colab_type": "code",
    "id": "m6f_swhyQQZd",
    "outputId": "e0607b43-a5e9-4880-ceb5-075479c74ebd"
   },
   "outputs": [],
   "source": [
    "# from psutil import virtual_memory\n",
    "# ram_gb = virtual_memory().total / 1e9\n",
    "# print('Your runtime has {:.1f} gigabytes of available RAM\\n'.format(ram_gb))\n",
    "\n",
    "# if ram_gb < 20:\n",
    "#   print('To enable a high-RAM runtime, select the Runtime > \"Change runtime type\"')\n",
    "#   print('menu, and then select High-RAM in the Runtime shape dropdown. Then, ')\n",
    "#   print('re-execute this cell.')\n",
    "# else:\n",
    "#   print('You are using a high-RAM runtime!')"
   ]
  },
  {
   "cell_type": "markdown",
   "metadata": {},
   "source": [
    "## Load data"
   ]
  },
  {
   "cell_type": "code",
   "execution_count": 2,
   "metadata": {},
   "outputs": [],
   "source": [
    "# change the file path if run on different machines\n",
    "# FilePath = \"/Users/yabindong/Program_Dataset/M5-Forcasting/m5-forecasting-accuracy/\"\n",
    "FilePath = \"C:\\\\Users\\\\dyabin\\\\Documents\\\\Github_data\\\\m5-forecasting-accuracy\\\\\""
   ]
  },
  {
   "cell_type": "code",
   "execution_count": 3,
   "metadata": {},
   "outputs": [],
   "source": [
    "# define a function to reduce the memory\n",
    "def reduce_mem_usage(df, verbose=True):\n",
    "    numerics = ['int16', 'int32', 'int64', 'float16', 'float32', 'float64']\n",
    "    start_mem = df.memory_usage().sum() / 1024**2 #bytes to MB\n",
    "    \n",
    "    # the for loop converts int16 --> int8, int32 --> int 16, etc\n",
    "    for col in df.columns:\n",
    "        col_type = df[col].dtypes\n",
    "        if col_type in numerics: \n",
    "            c_min = df[col].min()\n",
    "            c_max = df[col].max()\n",
    "            if str(col_type)[0:3] == 'int':\n",
    "                if c_min > np.iinfo(np.int8).min and c_max < np.iinfo(np.int8).max:\n",
    "                    df[col] = df[col].astype(np.int8)\n",
    "                elif c_min > np.iinfo(np.int16).min and c_max < np.iinfo(np.int16).max:\n",
    "                    df[col] = df[col].astype(np.int16)\n",
    "                elif c_min > np.iinfo(np.int32).min and c_max < np.iinfo(np.int32).max:\n",
    "                    df[col] = df[col].astype(np.int32)\n",
    "                elif c_min > np.iinfo(np.int64).min and c_max < np.iinfo(np.int64).max:\n",
    "                    df[col] = df[col].astype(np.int64)\n",
    "            else:\n",
    "                if c_min > np.finfo(np.float16).min and c_max < np.finfo(np.float16).max:\n",
    "                    df[col] = df[col].astype(np.float16)\n",
    "                elif c_min > np.finfo(np.float32).min and c_max < np.finfo(np.float32).max:\n",
    "                    df[col] = df[col].astype(np.float32)\n",
    "                else:\n",
    "                    df[col] = df[col].astype(np.float64)    \n",
    "    \n",
    "    end_mem = df.memory_usage().sum() / 1024**2\n",
    "    \n",
    "    if verbose:\n",
    "        print('Memory usage decreased from {:5.2f} Mb to {:5.2f} Mb ({:.1f}% reduction)'.format(start_mem, end_mem, 100*(start_mem-end_mem)/start_mem))\n",
    "            \n",
    "    return df"
   ]
  },
  {
   "cell_type": "code",
   "execution_count": 4,
   "metadata": {},
   "outputs": [],
   "source": [
    "# read data and reduce memory usage\n",
    "def ReadData(Path):\n",
    "    print(\"Reading files...\")\n",
    "    calendar = pd.read_csv(FilePath+'calendar.csv')\n",
    "    calendar = reduce_mem_usage(calendar)\n",
    "    print(\"calendar df has {} rows and {} columns\".format(calendar.shape[0], calendar.shape[1]))\n",
    "    \n",
    "    train = pd.read_csv(FilePath+'sales_train_validation.csv')\n",
    "    train = reduce_mem_usage(train)\n",
    "    print(\"train df has {} rows and {} columns\".format(train.shape[0], train.shape[1]))\n",
    "    \n",
    "    SellPrice = pd.read_csv(FilePath+'sell_prices.csv')\n",
    "    SellPrice = reduce_mem_usage(SellPrice)\n",
    "    print(\"train df has {} rows and {} columns\".format(SellPrice.shape[0], SellPrice.shape[1]))\n",
    "    \n",
    "    SampleSub = pd.read_csv(FilePath+'sample_submission.csv')\n",
    "    SampleSub = reduce_mem_usage(SampleSub)\n",
    "    print(\"train df has {} rows and {} columns\".format(SampleSub.shape[0], SampleSub.shape[1]))\n",
    "    \n",
    "    return calendar, train, SellPrice, SampleSub"
   ]
  },
  {
   "cell_type": "code",
   "execution_count": 5,
   "metadata": {},
   "outputs": [
    {
     "name": "stdout",
     "output_type": "stream",
     "text": [
      "Reading files...\n",
      "Memory usage decreased from  0.21 Mb to  0.12 Mb (41.9% reduction)\n",
      "calendar df has 1969 rows and 14 columns\n",
      "Memory usage decreased from 446.40 Mb to 95.00 Mb (78.7% reduction)\n",
      "train df has 30490 rows and 1919 columns\n",
      "Memory usage decreased from 208.77 Mb to 130.48 Mb (37.5% reduction)\n",
      "train df has 6841121 rows and 4 columns\n",
      "Memory usage decreased from 13.49 Mb to  2.09 Mb (84.5% reduction)\n",
      "train df has 60980 rows and 29 columns\n"
     ]
    }
   ],
   "source": [
    "df_calendar0, df_train0, df_SellPrice0, df_Sample_Submission = ReadData(FilePath)"
   ]
  },
  {
   "cell_type": "code",
   "execution_count": 6,
   "metadata": {},
   "outputs": [],
   "source": [
    "df_Sample_Submission.set_index(\"id\", inplace=True)"
   ]
  },
  {
   "cell_type": "markdown",
   "metadata": {},
   "source": [
    "**Create date index**"
   ]
  },
  {
   "cell_type": "code",
   "execution_count": 7,
   "metadata": {},
   "outputs": [],
   "source": [
    "# create time series index\n",
    "idx_train = pd.date_range(start='2011-01-29', periods=1913, freq='D')\n",
    "idx_val = pd.date_range(start='2016-04-25', periods=28, freq='D') #For validation time period\n",
    "idx_eval = pd.date_range(start='2016-05-23', periods=28, freq='D') #For evaluation time period\n",
    "idx_tot = pd.date_range(start='2011-01-29', periods=1969, freq='D')"
   ]
  },
  {
   "cell_type": "code",
   "execution_count": 8,
   "metadata": {},
   "outputs": [],
   "source": [
    "# del df_SellPrice0"
   ]
  },
  {
   "cell_type": "code",
   "execution_count": 9,
   "metadata": {},
   "outputs": [
    {
     "name": "stdout",
     "output_type": "stream",
     "text": [
      "The shape of df_train0 is (1913, 30490)\n"
     ]
    }
   ],
   "source": [
    "# df_train0 = df_train0.iloc[:, 6:].transpose()\n",
    "print('The shape of df_train0 is {}'.format(df_train0.shape))"
   ]
  },
  {
   "cell_type": "markdown",
   "metadata": {},
   "source": [
    "## Create features"
   ]
  },
  {
   "cell_type": "code",
   "execution_count": 10,
   "metadata": {},
   "outputs": [],
   "source": [
    "# define the time steps and start day for the study\n",
    "timesteps = 14\n",
    "startDay = 350"
   ]
  },
  {
   "cell_type": "markdown",
   "metadata": {},
   "source": [
    "**Lag and rolling features**"
   ]
  },
  {
   "cell_type": "code",
   "execution_count": 11,
   "metadata": {
    "colab": {},
    "colab_type": "code",
    "id": "91-Xs-pLP4xO"
   },
   "outputs": [
    {
     "name": "stdout",
     "output_type": "stream",
     "text": [
      "The shape of lags are (1913, 30490)\n",
      "The shape of rollings are (1913, 30490)\n"
     ]
    }
   ],
   "source": [
    "#two lags, 7 and 28\n",
    "df_lag7 = df_train0.shift(7)\n",
    "df_lag28 = df_train0.shift(28)\n",
    "print('The shape of lags are {}'.format(df_lag7.shape))\n",
    "\n",
    "# add a rolling mean\n",
    "df_rolling7 = df_train0.rolling(window=7).mean()\n",
    "df_rolling28 = df_train0.rolling(window=28).mean()\n",
    "print('The shape of rollings are {}'.format(df_rolling7.shape))"
   ]
  },
  {
   "cell_type": "code",
   "execution_count": 12,
   "metadata": {
    "colab": {},
    "colab_type": "code",
    "id": "7mKQs1QRCPa_"
   },
   "outputs": [],
   "source": [
    "df_train1 = pd.concat([df_train0, df_lag7, df_lag28, df_rolling7, df_rolling28], axis=1, ignore_index=True)"
   ]
  },
  {
   "cell_type": "code",
   "execution_count": 13,
   "metadata": {},
   "outputs": [],
   "source": [
    "df_train1.set_index(idx_train, inplace=True)"
   ]
  },
  {
   "cell_type": "code",
   "execution_count": 14,
   "metadata": {
    "colab": {},
    "colab_type": "code",
    "id": "C-JWpCUuA85v"
   },
   "outputs": [
    {
     "name": "stdout",
     "output_type": "stream",
     "text": [
      "The shape of df_train1 is (1913, 152450)\n"
     ]
    }
   ],
   "source": [
    "print('The shape of df_train1 is {}'.format(df_train1.shape))"
   ]
  },
  {
   "cell_type": "markdown",
   "metadata": {},
   "source": [
    "**event features**"
   ]
  },
  {
   "cell_type": "code",
   "execution_count": 15,
   "metadata": {},
   "outputs": [],
   "source": [
    "daysBeforeEvent = pd.DataFrame(np.zeros((1969,1)))\n",
    "daysBeforeEvent.columns = [\"oneDayBeforeEvent\"]"
   ]
  },
  {
   "cell_type": "code",
   "execution_count": 16,
   "metadata": {},
   "outputs": [],
   "source": [
    "for ind in range(len(df_calendar0)):\n",
    "    if ((pd.isnull(df_calendar0[\"event_name_1\"][ind])) == False):\n",
    "        daysBeforeEvent.iloc[ind-1] = 1\n",
    "daysBeforeEvent = daysBeforeEvent.astype('int32')"
   ]
  },
  {
   "cell_type": "code",
   "execution_count": 17,
   "metadata": {
    "colab": {},
    "colab_type": "code",
    "id": "Zrd9xrhvRhpQ"
   },
   "outputs": [],
   "source": [
    "#\"daysBeforeEventTest\" will be used as input for predicting (We will forecast the days 1913-1941)\n",
    "# daysBeforeEventTest = daysBeforeEvent[1913:]\n",
    "#\"daysBeforeEvent\" will be used for training as a feature.\n",
    "# daysBeforeEvent = daysBeforeEvent[:1913]\n",
    "daysBeforeEvent.set_index(idx_tot, inplace=True)"
   ]
  },
  {
   "cell_type": "code",
   "execution_count": 18,
   "metadata": {},
   "outputs": [
    {
     "name": "stdout",
     "output_type": "stream",
     "text": [
      "The shape of df_train1 is (1913, 152451)\n"
     ]
    }
   ],
   "source": [
    "df_train1 = pd.concat([df_train1, daysBeforeEvent[0:1913]], axis = 1)\n",
    "print('The shape of df_train1 is {}'.format(df_train1.shape))"
   ]
  },
  {
   "cell_type": "markdown",
   "metadata": {},
   "source": [
    "**Select data from the start date**"
   ]
  },
  {
   "cell_type": "code",
   "execution_count": 20,
   "metadata": {},
   "outputs": [
    {
     "data": {
      "text/html": [
       "<div>\n",
       "<style scoped>\n",
       "    .dataframe tbody tr th:only-of-type {\n",
       "        vertical-align: middle;\n",
       "    }\n",
       "\n",
       "    .dataframe tbody tr th {\n",
       "        vertical-align: top;\n",
       "    }\n",
       "\n",
       "    .dataframe thead th {\n",
       "        text-align: right;\n",
       "    }\n",
       "</style>\n",
       "<table border=\"1\" class=\"dataframe\">\n",
       "  <thead>\n",
       "    <tr style=\"text-align: right;\">\n",
       "      <th></th>\n",
       "      <th>0</th>\n",
       "      <th>1</th>\n",
       "      <th>2</th>\n",
       "      <th>3</th>\n",
       "      <th>4</th>\n",
       "      <th>5</th>\n",
       "      <th>6</th>\n",
       "      <th>7</th>\n",
       "      <th>8</th>\n",
       "      <th>9</th>\n",
       "      <th>...</th>\n",
       "      <th>152441</th>\n",
       "      <th>152442</th>\n",
       "      <th>152443</th>\n",
       "      <th>152444</th>\n",
       "      <th>152445</th>\n",
       "      <th>152446</th>\n",
       "      <th>152447</th>\n",
       "      <th>152448</th>\n",
       "      <th>152449</th>\n",
       "      <th>oneDayBeforeEvent</th>\n",
       "    </tr>\n",
       "  </thead>\n",
       "  <tbody>\n",
       "    <tr>\n",
       "      <th>2012-01-14</th>\n",
       "      <td>0</td>\n",
       "      <td>0</td>\n",
       "      <td>0</td>\n",
       "      <td>2</td>\n",
       "      <td>0</td>\n",
       "      <td>0</td>\n",
       "      <td>0</td>\n",
       "      <td>24</td>\n",
       "      <td>3</td>\n",
       "      <td>2</td>\n",
       "      <td>...</td>\n",
       "      <td>6.535714</td>\n",
       "      <td>1.928571</td>\n",
       "      <td>0.0</td>\n",
       "      <td>5.607143</td>\n",
       "      <td>0.0</td>\n",
       "      <td>0.785714</td>\n",
       "      <td>0.928571</td>\n",
       "      <td>0.0</td>\n",
       "      <td>0.0</td>\n",
       "      <td>0</td>\n",
       "    </tr>\n",
       "    <tr>\n",
       "      <th>2012-01-15</th>\n",
       "      <td>0</td>\n",
       "      <td>0</td>\n",
       "      <td>0</td>\n",
       "      <td>0</td>\n",
       "      <td>0</td>\n",
       "      <td>0</td>\n",
       "      <td>0</td>\n",
       "      <td>9</td>\n",
       "      <td>0</td>\n",
       "      <td>2</td>\n",
       "      <td>...</td>\n",
       "      <td>6.678571</td>\n",
       "      <td>1.892857</td>\n",
       "      <td>0.0</td>\n",
       "      <td>5.750000</td>\n",
       "      <td>0.0</td>\n",
       "      <td>0.785714</td>\n",
       "      <td>0.964286</td>\n",
       "      <td>0.0</td>\n",
       "      <td>0.0</td>\n",
       "      <td>1</td>\n",
       "    </tr>\n",
       "    <tr>\n",
       "      <th>2012-01-16</th>\n",
       "      <td>0</td>\n",
       "      <td>0</td>\n",
       "      <td>0</td>\n",
       "      <td>4</td>\n",
       "      <td>2</td>\n",
       "      <td>0</td>\n",
       "      <td>0</td>\n",
       "      <td>2</td>\n",
       "      <td>1</td>\n",
       "      <td>1</td>\n",
       "      <td>...</td>\n",
       "      <td>7.107143</td>\n",
       "      <td>1.928571</td>\n",
       "      <td>0.0</td>\n",
       "      <td>5.678571</td>\n",
       "      <td>0.0</td>\n",
       "      <td>0.821429</td>\n",
       "      <td>1.035714</td>\n",
       "      <td>0.0</td>\n",
       "      <td>0.0</td>\n",
       "      <td>0</td>\n",
       "    </tr>\n",
       "    <tr>\n",
       "      <th>2012-01-17</th>\n",
       "      <td>0</td>\n",
       "      <td>1</td>\n",
       "      <td>0</td>\n",
       "      <td>2</td>\n",
       "      <td>0</td>\n",
       "      <td>0</td>\n",
       "      <td>0</td>\n",
       "      <td>7</td>\n",
       "      <td>1</td>\n",
       "      <td>0</td>\n",
       "      <td>...</td>\n",
       "      <td>7.000000</td>\n",
       "      <td>1.857143</td>\n",
       "      <td>0.0</td>\n",
       "      <td>5.535714</td>\n",
       "      <td>0.0</td>\n",
       "      <td>0.821429</td>\n",
       "      <td>0.964286</td>\n",
       "      <td>0.0</td>\n",
       "      <td>0.0</td>\n",
       "      <td>0</td>\n",
       "    </tr>\n",
       "    <tr>\n",
       "      <th>2012-01-18</th>\n",
       "      <td>0</td>\n",
       "      <td>0</td>\n",
       "      <td>0</td>\n",
       "      <td>1</td>\n",
       "      <td>2</td>\n",
       "      <td>0</td>\n",
       "      <td>0</td>\n",
       "      <td>0</td>\n",
       "      <td>0</td>\n",
       "      <td>0</td>\n",
       "      <td>...</td>\n",
       "      <td>7.142857</td>\n",
       "      <td>1.857143</td>\n",
       "      <td>0.0</td>\n",
       "      <td>5.535714</td>\n",
       "      <td>0.0</td>\n",
       "      <td>0.857143</td>\n",
       "      <td>1.000000</td>\n",
       "      <td>0.0</td>\n",
       "      <td>0.0</td>\n",
       "      <td>0</td>\n",
       "    </tr>\n",
       "  </tbody>\n",
       "</table>\n",
       "<p>5 rows × 152451 columns</p>\n",
       "</div>"
      ],
      "text/plain": [
       "            0  1  2  3  4  5  6   7  8  9  ...    152441    152442  152443  \\\n",
       "2012-01-14  0  0  0  2  0  0  0  24  3  2  ...  6.535714  1.928571     0.0   \n",
       "2012-01-15  0  0  0  0  0  0  0   9  0  2  ...  6.678571  1.892857     0.0   \n",
       "2012-01-16  0  0  0  4  2  0  0   2  1  1  ...  7.107143  1.928571     0.0   \n",
       "2012-01-17  0  1  0  2  0  0  0   7  1  0  ...  7.000000  1.857143     0.0   \n",
       "2012-01-18  0  0  0  1  2  0  0   0  0  0  ...  7.142857  1.857143     0.0   \n",
       "\n",
       "              152444  152445    152446    152447  152448  152449  \\\n",
       "2012-01-14  5.607143     0.0  0.785714  0.928571     0.0     0.0   \n",
       "2012-01-15  5.750000     0.0  0.785714  0.964286     0.0     0.0   \n",
       "2012-01-16  5.678571     0.0  0.821429  1.035714     0.0     0.0   \n",
       "2012-01-17  5.535714     0.0  0.821429  0.964286     0.0     0.0   \n",
       "2012-01-18  5.535714     0.0  0.857143  1.000000     0.0     0.0   \n",
       "\n",
       "            oneDayBeforeEvent  \n",
       "2012-01-14                  0  \n",
       "2012-01-15                  1  \n",
       "2012-01-16                  0  \n",
       "2012-01-17                  0  \n",
       "2012-01-18                  0  \n",
       "\n",
       "[5 rows x 152451 columns]"
      ]
     },
     "execution_count": 20,
     "metadata": {},
     "output_type": "execute_result"
    }
   ],
   "source": [
    "# df_train1 = df_train1.iloc[startDay:,:]\n",
    "df_train1.head()"
   ]
  },
  {
   "cell_type": "markdown",
   "metadata": {},
   "source": [
    "## Scale the training data"
   ]
  },
  {
   "cell_type": "code",
   "execution_count": 21,
   "metadata": {
    "colab": {},
    "colab_type": "code",
    "id": "KijIFf0-TLHf"
   },
   "outputs": [],
   "source": [
    "sc = MinMaxScaler(feature_range = (0, 1))\n",
    "train_scaled = sc.fit_transform(df_train1)"
   ]
  },
  {
   "cell_type": "code",
   "execution_count": 22,
   "metadata": {},
   "outputs": [
    {
     "name": "stdout",
     "output_type": "stream",
     "text": [
      "The shape of scaled data is (1563, 152451)\n"
     ]
    }
   ],
   "source": [
    "print(\"The shape of scaled data is {}\".format(train_scaled.shape))"
   ]
  },
  {
   "cell_type": "markdown",
   "metadata": {},
   "source": [
    "## Convert to RNN input format"
   ]
  },
  {
   "cell_type": "code",
   "execution_count": 23,
   "metadata": {},
   "outputs": [],
   "source": [
    "def sliding_windows(data, seq_length):\n",
    "    X = []\n",
    "    Y = []\n",
    "    for i in range(len(data)-seq_length):\n",
    "        X.append(data[i:(i+seq_length)])\n",
    "        Y.append(data[i+seq_length, 0:30490])\n",
    "\n",
    "    return X, Y"
   ]
  },
  {
   "cell_type": "code",
   "execution_count": null,
   "metadata": {
    "scrolled": true
   },
   "outputs": [],
   "source": [
    "DataX, DataY = sliding_windows(train_scaled, timesteps)\n",
    "DataX = np.array(DataX)\n",
    "DataY = np.array(DataY)\n",
    "print(\"The shape of DataX is {}\".format(DataX.shape))\n",
    "print(\"The shape of DataY is {}\".format(DataY.shape))"
   ]
  },
  {
   "cell_type": "markdown",
   "metadata": {},
   "source": [
    "## Model"
   ]
  },
  {
   "cell_type": "code",
   "execution_count": 34,
   "metadata": {},
   "outputs": [],
   "source": [
    "# Initialising the LSTM\n",
    "LSTM_model= Sequential()\n",
    "\n",
    "# Adding the first LSTM layer and some Dropout regularisation\n",
    "LSTM_model.add(LSTM(units = 50, return_sequences = True, input_shape = (DataX.shape[1], DataX.shape[2])))\n",
    "LSTM_model.add(Dropout(0.2))\n",
    "\n",
    "# Adding a second LSTM layer and some Dropout regularisation\n",
    "LSTM_model.add(LSTM(units = 400, return_sequences = True))\n",
    "LSTM_model.add(Dropout(0.2))\n",
    "\n",
    "# Adding a third LSTM layer and some Dropout regularisation\n",
    "LSTM_model.add(LSTM(units = 400))\n",
    "LSTM_model.add(Dropout(0.2))\n",
    "\n",
    "# Adding the output layer\n",
    "LSTM_model.add(Dense(units = 30490))"
   ]
  },
  {
   "cell_type": "code",
   "execution_count": 45,
   "metadata": {},
   "outputs": [],
   "source": [
    "# Compiling the RNN\n",
    "LSTM_model.compile(optimizer = 'adam', loss = 'mean_squared_error')"
   ]
  },
  {
   "cell_type": "code",
   "execution_count": 63,
   "metadata": {},
   "outputs": [
    {
     "name": "stdout",
     "output_type": "stream",
     "text": [
      "Epoch 1/30\n",
      "1549/1549 [==============================] - 299s 193ms/step - loss: 0.0164\n",
      "Epoch 2/30\n",
      "1549/1549 [==============================] - 282s 182ms/step - loss: 0.0164\n",
      "Epoch 3/30\n",
      "1549/1549 [==============================] - 267s 172ms/step - loss: 0.0164\n",
      "Epoch 4/30\n",
      "1549/1549 [==============================] - 266s 172ms/step - loss: 0.0160\n",
      "Epoch 5/30\n",
      "1549/1549 [==============================] - 263s 169ms/step - loss: 0.0156\n",
      "Epoch 6/30\n",
      "1549/1549 [==============================] - 252s 163ms/step - loss: 0.0156\n",
      "Epoch 7/30\n",
      "1549/1549 [==============================] - 258s 166ms/step - loss: 0.0156\n",
      "Epoch 8/30\n",
      "1549/1549 [==============================] - 260s 168ms/step - loss: 0.0156\n",
      "Epoch 9/30\n",
      "1549/1549 [==============================] - 268s 173ms/step - loss: 0.0156\n",
      "Epoch 10/30\n",
      "1549/1549 [==============================] - 276s 178ms/step - loss: 0.0155\n",
      "Epoch 11/30\n",
      "1549/1549 [==============================] - 251s 162ms/step - loss: 0.0156\n",
      "Epoch 12/30\n",
      "1549/1549 [==============================] - 258s 166ms/step - loss: 0.0155\n",
      "Epoch 13/30\n",
      "1549/1549 [==============================] - 252s 162ms/step - loss: 0.0155\n",
      "Epoch 14/30\n",
      "1549/1549 [==============================] - 264s 170ms/step - loss: 0.0155\n",
      "Epoch 15/30\n",
      "1549/1549 [==============================] - 256s 166ms/step - loss: 0.0155\n",
      "Epoch 16/30\n",
      "1549/1549 [==============================] - 252s 162ms/step - loss: 0.0156\n",
      "Epoch 17/30\n",
      "1549/1549 [==============================] - 258s 167ms/step - loss: 0.0155\n",
      "Epoch 18/30\n",
      "1549/1549 [==============================] - 306s 197ms/step - loss: 0.0155\n",
      "Epoch 19/30\n",
      "1549/1549 [==============================] - 262s 169ms/step - loss: 0.0154\n",
      "Epoch 20/30\n",
      "1549/1549 [==============================] - 256s 165ms/step - loss: 0.0153\n",
      "Epoch 21/30\n",
      "1549/1549 [==============================] - 256s 165ms/step - loss: 0.0153\n",
      "Epoch 22/30\n",
      "1549/1549 [==============================] - 252s 163ms/step - loss: 0.0154\n",
      "Epoch 23/30\n",
      "1549/1549 [==============================] - 253s 163ms/step - loss: 0.0152\n",
      "Epoch 24/30\n",
      "1549/1549 [==============================] - 248s 160ms/step - loss: 0.0152\n",
      "Epoch 25/30\n",
      "1549/1549 [==============================] - 252s 163ms/step - loss: 0.0152\n",
      "Epoch 26/30\n",
      "1549/1549 [==============================] - 255s 164ms/step - loss: 0.0151\n",
      "Epoch 27/30\n",
      "1549/1549 [==============================] - 288s 186ms/step - loss: 0.0151\n",
      "Epoch 28/30\n",
      "1549/1549 [==============================] - 257s 166ms/step - loss: 0.0151\n",
      "Epoch 29/30\n",
      "1549/1549 [==============================] - 250s 161ms/step - loss: 0.0151\n",
      "Epoch 30/30\n",
      "1549/1549 [==============================] - 262s 169ms/step - loss: 0.0150\n"
     ]
    },
    {
     "data": {
      "text/plain": [
       "<keras.callbacks.callbacks.History at 0x144a96dd0>"
      ]
     },
     "execution_count": 63,
     "metadata": {},
     "output_type": "execute_result"
    }
   ],
   "source": [
    "# Fitting the LSTM to the Training set\n",
    "epoch=30\n",
    "batch_size=44\n",
    "\n",
    "LSTM_model.fit(DataX, DataY, epochs = epoch, batch_size = batch_size)"
   ]
  },
  {
   "cell_type": "markdown",
   "metadata": {},
   "source": [
    "## Predict"
   ]
  },
  {
   "cell_type": "code",
   "execution_count": 67,
   "metadata": {},
   "outputs": [],
   "source": [
    "test_predictions = []\n",
    "first_eval_batch = df_scaled[-timesteps:]\n",
    "current_batch = first_eval_batch.reshape((1, DataX.shape[1], DataX.shape[2]))\n",
    "\n",
    "# this function returns the scaled all training data\n",
    "item_tot = sc.fit_transform(df_train0).tolist()\n",
    "\n",
    "for i in range(56):\n",
    "    # get prediction 1 time stamp ahead ([0] is for grabbing just the number instead of [array])\n",
    "    current_pred = LSTM_model.predict(current_batch)[0]\n",
    "    # store prediction\n",
    "    test_predictions.append(current_pred) \n",
    "    \n",
    "    # create current lag and rollings\n",
    "    item_tot.append(current_pred)\n",
    "    df_item_tot = pd.DataFrame(item_tot)\n",
    "    current_lag7 = df_item_tot.shift(7).to_numpy()[-timesteps:]\n",
    "    current_lag28 = df_item_tot.shift(28).to_numpy()[-timesteps:]\n",
    "    current_rolling7 = df_item_tot.rolling(window=7).mean().to_numpy()[-timesteps:]\n",
    "    current_rolling28 = df_item_tot.rolling(window=28).mean().to_numpy()[-timesteps:]\n",
    "    \n",
    "    # update batch to now include prediction and drop first value\n",
    "    current_batch = np.append(current_batch[:,1:, 0:30490],[[current_pred]],axis=1)\n",
    "    current_batch = np.concatenate((current_batch[0], current_lag7, current_lag28, current_rolling7, current_rolling28, daysBeforeEvent[-(timesteps+56-i):-(56-i)]), axis=1).reshape(1, DataX.shape[1], DataX.shape[2])"
   ]
  },
  {
   "cell_type": "code",
   "execution_count": 68,
   "metadata": {},
   "outputs": [
    {
     "name": "stdout",
     "output_type": "stream",
     "text": [
      "The length of the data is 56\n",
      "The row of the data is 30490\n"
     ]
    }
   ],
   "source": [
    "print(\"The length of the data is {}\".format(len(test_predictions)))\n",
    "print(\"The row of the data is {}\".format(len(test_predictions[0])))"
   ]
  },
  {
   "cell_type": "markdown",
   "metadata": {},
   "source": [
    "**scale back**"
   ]
  },
  {
   "cell_type": "code",
   "execution_count": 69,
   "metadata": {},
   "outputs": [],
   "source": [
    "test_predictions = sc.inverse_transform(test_predictions)"
   ]
  },
  {
   "cell_type": "markdown",
   "metadata": {},
   "source": [
    "## create submission file"
   ]
  },
  {
   "cell_type": "code",
   "execution_count": 70,
   "metadata": {},
   "outputs": [],
   "source": [
    "df_submission0 = pd.DataFrame(test_predictions)\n",
    "df_submission_val = df_submission0.iloc[0:28,:]\n",
    "df_submission_eval = df_submission0.iloc[28:,:]"
   ]
  },
  {
   "cell_type": "code",
   "execution_count": 71,
   "metadata": {},
   "outputs": [],
   "source": [
    "df_submission_eval.index=range(0,28)"
   ]
  },
  {
   "cell_type": "code",
   "execution_count": 72,
   "metadata": {},
   "outputs": [],
   "source": [
    "df_submission = pd.concat([df_submission_val, df_submission_eval],axis=1)\n",
    "df_submission = df_submission.transpose()"
   ]
  },
  {
   "cell_type": "code",
   "execution_count": 73,
   "metadata": {},
   "outputs": [],
   "source": [
    "df_submission.index = df_Sample_Submission.index\n",
    "df_submission.columns = df_Sample_Submission.columns"
   ]
  },
  {
   "cell_type": "code",
   "execution_count": 74,
   "metadata": {},
   "outputs": [],
   "source": [
    "df_submission[df_submission < 0] =0"
   ]
  },
  {
   "cell_type": "code",
   "execution_count": 75,
   "metadata": {},
   "outputs": [
    {
     "data": {
      "text/html": [
       "<div>\n",
       "<style scoped>\n",
       "    .dataframe tbody tr th:only-of-type {\n",
       "        vertical-align: middle;\n",
       "    }\n",
       "\n",
       "    .dataframe tbody tr th {\n",
       "        vertical-align: top;\n",
       "    }\n",
       "\n",
       "    .dataframe thead th {\n",
       "        text-align: right;\n",
       "    }\n",
       "</style>\n",
       "<table border=\"1\" class=\"dataframe\">\n",
       "  <thead>\n",
       "    <tr style=\"text-align: right;\">\n",
       "      <th></th>\n",
       "      <th>F1</th>\n",
       "      <th>F2</th>\n",
       "      <th>F3</th>\n",
       "      <th>F4</th>\n",
       "      <th>F5</th>\n",
       "      <th>F6</th>\n",
       "      <th>F7</th>\n",
       "      <th>F8</th>\n",
       "      <th>F9</th>\n",
       "      <th>F10</th>\n",
       "      <th>...</th>\n",
       "      <th>F19</th>\n",
       "      <th>F20</th>\n",
       "      <th>F21</th>\n",
       "      <th>F22</th>\n",
       "      <th>F23</th>\n",
       "      <th>F24</th>\n",
       "      <th>F25</th>\n",
       "      <th>F26</th>\n",
       "      <th>F27</th>\n",
       "      <th>F28</th>\n",
       "    </tr>\n",
       "    <tr>\n",
       "      <th>id</th>\n",
       "      <th></th>\n",
       "      <th></th>\n",
       "      <th></th>\n",
       "      <th></th>\n",
       "      <th></th>\n",
       "      <th></th>\n",
       "      <th></th>\n",
       "      <th></th>\n",
       "      <th></th>\n",
       "      <th></th>\n",
       "      <th></th>\n",
       "      <th></th>\n",
       "      <th></th>\n",
       "      <th></th>\n",
       "      <th></th>\n",
       "      <th></th>\n",
       "      <th></th>\n",
       "      <th></th>\n",
       "      <th></th>\n",
       "      <th></th>\n",
       "      <th></th>\n",
       "    </tr>\n",
       "  </thead>\n",
       "  <tbody>\n",
       "    <tr>\n",
       "      <td>HOBBIES_1_001_CA_1_validation</td>\n",
       "      <td>0.735254</td>\n",
       "      <td>0.005742</td>\n",
       "      <td>0.005746</td>\n",
       "      <td>0.005743</td>\n",
       "      <td>0.005744</td>\n",
       "      <td>0.005705</td>\n",
       "      <td>0.005666</td>\n",
       "      <td>0.005607</td>\n",
       "      <td>0.005569</td>\n",
       "      <td>0.005488</td>\n",
       "      <td>...</td>\n",
       "      <td>0.005070</td>\n",
       "      <td>0.005055</td>\n",
       "      <td>0.005011</td>\n",
       "      <td>0.004915</td>\n",
       "      <td>0.004001</td>\n",
       "      <td>0.002327</td>\n",
       "      <td>0.000331</td>\n",
       "      <td>0.000000</td>\n",
       "      <td>0.000000</td>\n",
       "      <td>0.000000</td>\n",
       "    </tr>\n",
       "    <tr>\n",
       "      <td>HOBBIES_1_002_CA_1_validation</td>\n",
       "      <td>0.294894</td>\n",
       "      <td>0.211994</td>\n",
       "      <td>0.211993</td>\n",
       "      <td>0.211995</td>\n",
       "      <td>0.212007</td>\n",
       "      <td>0.212017</td>\n",
       "      <td>0.212027</td>\n",
       "      <td>0.212029</td>\n",
       "      <td>0.212039</td>\n",
       "      <td>0.212043</td>\n",
       "      <td>...</td>\n",
       "      <td>0.212069</td>\n",
       "      <td>0.212075</td>\n",
       "      <td>0.212076</td>\n",
       "      <td>0.212065</td>\n",
       "      <td>0.211964</td>\n",
       "      <td>0.211714</td>\n",
       "      <td>0.211370</td>\n",
       "      <td>0.211006</td>\n",
       "      <td>0.210656</td>\n",
       "      <td>0.210336</td>\n",
       "    </tr>\n",
       "    <tr>\n",
       "      <td>HOBBIES_1_003_CA_1_validation</td>\n",
       "      <td>0.484005</td>\n",
       "      <td>0.000000</td>\n",
       "      <td>0.000000</td>\n",
       "      <td>0.000000</td>\n",
       "      <td>0.000000</td>\n",
       "      <td>0.000000</td>\n",
       "      <td>0.000000</td>\n",
       "      <td>0.000000</td>\n",
       "      <td>0.000000</td>\n",
       "      <td>0.000000</td>\n",
       "      <td>...</td>\n",
       "      <td>0.000000</td>\n",
       "      <td>0.000000</td>\n",
       "      <td>0.000000</td>\n",
       "      <td>0.000000</td>\n",
       "      <td>0.000000</td>\n",
       "      <td>0.000000</td>\n",
       "      <td>0.000000</td>\n",
       "      <td>0.000000</td>\n",
       "      <td>0.000000</td>\n",
       "      <td>0.000000</td>\n",
       "    </tr>\n",
       "    <tr>\n",
       "      <td>HOBBIES_1_004_CA_1_validation</td>\n",
       "      <td>2.122116</td>\n",
       "      <td>1.078057</td>\n",
       "      <td>1.078035</td>\n",
       "      <td>1.078046</td>\n",
       "      <td>1.078118</td>\n",
       "      <td>1.078128</td>\n",
       "      <td>1.078095</td>\n",
       "      <td>1.077961</td>\n",
       "      <td>1.077887</td>\n",
       "      <td>1.077778</td>\n",
       "      <td>...</td>\n",
       "      <td>1.077058</td>\n",
       "      <td>1.077065</td>\n",
       "      <td>1.077045</td>\n",
       "      <td>1.076976</td>\n",
       "      <td>1.076895</td>\n",
       "      <td>1.076312</td>\n",
       "      <td>1.075432</td>\n",
       "      <td>1.074728</td>\n",
       "      <td>1.074327</td>\n",
       "      <td>1.074258</td>\n",
       "    </tr>\n",
       "    <tr>\n",
       "      <td>HOBBIES_1_005_CA_1_validation</td>\n",
       "      <td>1.193682</td>\n",
       "      <td>0.996570</td>\n",
       "      <td>0.996563</td>\n",
       "      <td>0.996562</td>\n",
       "      <td>0.996573</td>\n",
       "      <td>0.996555</td>\n",
       "      <td>0.996517</td>\n",
       "      <td>0.996444</td>\n",
       "      <td>0.996390</td>\n",
       "      <td>0.996319</td>\n",
       "      <td>...</td>\n",
       "      <td>0.995967</td>\n",
       "      <td>0.995965</td>\n",
       "      <td>0.995952</td>\n",
       "      <td>0.995915</td>\n",
       "      <td>0.995792</td>\n",
       "      <td>0.995280</td>\n",
       "      <td>0.994493</td>\n",
       "      <td>0.993634</td>\n",
       "      <td>0.992775</td>\n",
       "      <td>0.991952</td>\n",
       "    </tr>\n",
       "  </tbody>\n",
       "</table>\n",
       "<p>5 rows × 28 columns</p>\n",
       "</div>"
      ],
      "text/plain": [
       "                                     F1        F2        F3        F4  \\\n",
       "id                                                                      \n",
       "HOBBIES_1_001_CA_1_validation  0.735254  0.005742  0.005746  0.005743   \n",
       "HOBBIES_1_002_CA_1_validation  0.294894  0.211994  0.211993  0.211995   \n",
       "HOBBIES_1_003_CA_1_validation  0.484005  0.000000  0.000000  0.000000   \n",
       "HOBBIES_1_004_CA_1_validation  2.122116  1.078057  1.078035  1.078046   \n",
       "HOBBIES_1_005_CA_1_validation  1.193682  0.996570  0.996563  0.996562   \n",
       "\n",
       "                                     F5        F6        F7        F8  \\\n",
       "id                                                                      \n",
       "HOBBIES_1_001_CA_1_validation  0.005744  0.005705  0.005666  0.005607   \n",
       "HOBBIES_1_002_CA_1_validation  0.212007  0.212017  0.212027  0.212029   \n",
       "HOBBIES_1_003_CA_1_validation  0.000000  0.000000  0.000000  0.000000   \n",
       "HOBBIES_1_004_CA_1_validation  1.078118  1.078128  1.078095  1.077961   \n",
       "HOBBIES_1_005_CA_1_validation  0.996573  0.996555  0.996517  0.996444   \n",
       "\n",
       "                                     F9       F10  ...       F19       F20  \\\n",
       "id                                                 ...                       \n",
       "HOBBIES_1_001_CA_1_validation  0.005569  0.005488  ...  0.005070  0.005055   \n",
       "HOBBIES_1_002_CA_1_validation  0.212039  0.212043  ...  0.212069  0.212075   \n",
       "HOBBIES_1_003_CA_1_validation  0.000000  0.000000  ...  0.000000  0.000000   \n",
       "HOBBIES_1_004_CA_1_validation  1.077887  1.077778  ...  1.077058  1.077065   \n",
       "HOBBIES_1_005_CA_1_validation  0.996390  0.996319  ...  0.995967  0.995965   \n",
       "\n",
       "                                    F21       F22       F23       F24  \\\n",
       "id                                                                      \n",
       "HOBBIES_1_001_CA_1_validation  0.005011  0.004915  0.004001  0.002327   \n",
       "HOBBIES_1_002_CA_1_validation  0.212076  0.212065  0.211964  0.211714   \n",
       "HOBBIES_1_003_CA_1_validation  0.000000  0.000000  0.000000  0.000000   \n",
       "HOBBIES_1_004_CA_1_validation  1.077045  1.076976  1.076895  1.076312   \n",
       "HOBBIES_1_005_CA_1_validation  0.995952  0.995915  0.995792  0.995280   \n",
       "\n",
       "                                    F25       F26       F27       F28  \n",
       "id                                                                     \n",
       "HOBBIES_1_001_CA_1_validation  0.000331  0.000000  0.000000  0.000000  \n",
       "HOBBIES_1_002_CA_1_validation  0.211370  0.211006  0.210656  0.210336  \n",
       "HOBBIES_1_003_CA_1_validation  0.000000  0.000000  0.000000  0.000000  \n",
       "HOBBIES_1_004_CA_1_validation  1.075432  1.074728  1.074327  1.074258  \n",
       "HOBBIES_1_005_CA_1_validation  0.994493  0.993634  0.992775  0.991952  \n",
       "\n",
       "[5 rows x 28 columns]"
      ]
     },
     "execution_count": 75,
     "metadata": {},
     "output_type": "execute_result"
    }
   ],
   "source": [
    "df_submission.head()"
   ]
  },
  {
   "cell_type": "code",
   "execution_count": 76,
   "metadata": {},
   "outputs": [],
   "source": [
    "# df_submission.to_csv(r'/Users/yabindong/Program_Dataset/M5-Forcasting/Submission.csv')"
   ]
  },
  {
   "cell_type": "code",
   "execution_count": null,
   "metadata": {},
   "outputs": [],
   "source": []
  }
 ],
 "metadata": {
  "accelerator": "GPU",
  "colab": {
   "authorship_tag": "ABX9TyMIhZUpJGAQCzwzYSE8owf0",
   "include_colab_link": true,
   "machine_shape": "hm",
   "name": "keras lstm.ipynb",
   "provenance": []
  },
  "kernelspec": {
   "display_name": "Python 3",
   "language": "python",
   "name": "python3"
  },
  "language_info": {
   "codemirror_mode": {
    "name": "ipython",
    "version": 3
   },
   "file_extension": ".py",
   "mimetype": "text/x-python",
   "name": "python",
   "nbconvert_exporter": "python",
   "pygments_lexer": "ipython3",
   "version": "3.7.6"
  }
 },
 "nbformat": 4,
 "nbformat_minor": 1
}
